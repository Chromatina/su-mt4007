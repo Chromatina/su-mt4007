{
 "cells": [
  {
   "cell_type": "markdown",
   "id": "3d14b066-9bef-46e8-b5a8-07ca6554bced",
   "metadata": {},
   "source": [
    "# Homework 4"
   ]
  },
  {
   "cell_type": "code",
   "execution_count": 227,
   "id": "35fadbbb-c422-4420-b8ab-4dde0d24caa1",
   "metadata": {},
   "outputs": [],
   "source": [
    "import pandas as pd\n",
    "import matplotlib.pyplot as plt\n",
    "from sklearn.linear_model import LinearRegression\n",
    "import numpy as np\n",
    "import sqlite3 as sql\n",
    "import re"
   ]
  },
  {
   "cell_type": "markdown",
   "id": "a94a7860-f90c-4964-89cb-83b88b807709",
   "metadata": {},
   "source": [
    "## Joining Data"
   ]
  },
  {
   "cell_type": "markdown",
   "id": "249ccf21-3956-435f-83a9-ad5a7f7deb99",
   "metadata": {
    "tags": []
   },
   "source": [
    "### Data"
   ]
  },
  {
   "cell_type": "code",
   "execution_count": 98,
   "id": "8c20f0d8-0174-462f-8e48-9638ad83adf7",
   "metadata": {
    "tags": []
   },
   "outputs": [],
   "source": [
    "cleaned_cellphones_df = pd.read_csv(\"cleaned_cellphones_df.csv\")\n",
    "population_df = pd.read_csv(\"https://raw.githubusercontent.com/su-mt4007/data/refs/heads/main/pop_data.csv\")\n",
    "population_df = population_df.drop(columns=[\"Unnamed: 0\"], errors='ignore')\n",
    "country_df = pd.read_csv(\"https://raw.githubusercontent.com/su-mt4007/data/refs/heads/main/country_data.csv\")"
   ]
  },
  {
   "cell_type": "markdown",
   "id": "0fcb48d4-1a88-4c3d-b1c4-bd80d8fe9cd5",
   "metadata": {
    "tags": []
   },
   "source": [
    "### Task"
   ]
  },
  {
   "cell_type": "markdown",
   "id": "255ec167-550a-4d0f-91f8-c6ad26b12bbb",
   "metadata": {},
   "source": [
    "We first need to deal with missing values, we start by examining if there are any rows (countries) in our dataframe with only missing values. "
   ]
  },
  {
   "cell_type": "code",
   "execution_count": 99,
   "id": "acb9af1c-58fb-4b4c-b27d-864901162e31",
   "metadata": {
    "tags": []
   },
   "outputs": [
    {
     "data": {
      "text/html": [
       "<div>\n",
       "<style scoped>\n",
       "    .dataframe tbody tr th:only-of-type {\n",
       "        vertical-align: middle;\n",
       "    }\n",
       "\n",
       "    .dataframe tbody tr th {\n",
       "        vertical-align: top;\n",
       "    }\n",
       "\n",
       "    .dataframe thead th {\n",
       "        text-align: right;\n",
       "    }\n",
       "</style>\n",
       "<table border=\"1\" class=\"dataframe\">\n",
       "  <thead>\n",
       "    <tr style=\"text-align: right;\">\n",
       "      <th></th>\n",
       "      <th>iso-3</th>\n",
       "      <th>1960</th>\n",
       "      <th>1961</th>\n",
       "      <th>1962</th>\n",
       "      <th>1963</th>\n",
       "      <th>1964</th>\n",
       "      <th>1965</th>\n",
       "      <th>1966</th>\n",
       "      <th>1967</th>\n",
       "      <th>1968</th>\n",
       "      <th>...</th>\n",
       "      <th>2011</th>\n",
       "      <th>2012</th>\n",
       "      <th>2013</th>\n",
       "      <th>2014</th>\n",
       "      <th>2015</th>\n",
       "      <th>2016</th>\n",
       "      <th>2017</th>\n",
       "      <th>2018</th>\n",
       "      <th>2019</th>\n",
       "      <th>2020</th>\n",
       "    </tr>\n",
       "  </thead>\n",
       "  <tbody>\n",
       "    <tr>\n",
       "      <th>110</th>\n",
       "      <td>INX</td>\n",
       "      <td>NaN</td>\n",
       "      <td>NaN</td>\n",
       "      <td>NaN</td>\n",
       "      <td>NaN</td>\n",
       "      <td>NaN</td>\n",
       "      <td>NaN</td>\n",
       "      <td>NaN</td>\n",
       "      <td>NaN</td>\n",
       "      <td>NaN</td>\n",
       "      <td>...</td>\n",
       "      <td>NaN</td>\n",
       "      <td>NaN</td>\n",
       "      <td>NaN</td>\n",
       "      <td>NaN</td>\n",
       "      <td>NaN</td>\n",
       "      <td>NaN</td>\n",
       "      <td>NaN</td>\n",
       "      <td>NaN</td>\n",
       "      <td>NaN</td>\n",
       "      <td>NaN</td>\n",
       "    </tr>\n",
       "  </tbody>\n",
       "</table>\n",
       "<p>1 rows × 62 columns</p>\n",
       "</div>"
      ],
      "text/plain": [
       "    iso-3  1960  1961  1962  1963  1964  1965  1966  1967  1968  ...  2011  \\\n",
       "110   INX   NaN   NaN   NaN   NaN   NaN   NaN   NaN   NaN   NaN  ...   NaN   \n",
       "\n",
       "     2012  2013  2014  2015  2016  2017  2018  2019  2020  \n",
       "110   NaN   NaN   NaN   NaN   NaN   NaN   NaN   NaN   NaN  \n",
       "\n",
       "[1 rows x 62 columns]"
      ]
     },
     "execution_count": 99,
     "metadata": {},
     "output_type": "execute_result"
    }
   ],
   "source": [
    "subset = population_df.loc[:, '1960':'2020']\n",
    "all_nan_rows = subset.isna().all(axis=1) # returns True for all the rows with only NaN\n",
    "population_df[all_nan_rows]"
   ]
  },
  {
   "cell_type": "markdown",
   "id": "42bbb450-cea5-4471-916f-0b7e1a33d0fe",
   "metadata": {},
   "source": [
    "Because this row only has missing values we remove it from our dataframe."
   ]
  },
  {
   "cell_type": "code",
   "execution_count": 100,
   "id": "955cb639-5079-489a-9a05-9a30c854c337",
   "metadata": {
    "tags": []
   },
   "outputs": [],
   "source": [
    "cleaned_population_df = population_df.drop(index=population_df[all_nan_rows].index)"
   ]
  },
  {
   "cell_type": "markdown",
   "id": "ebb5c995-350c-4e33-9492-90e8bab0f23a",
   "metadata": {
    "tags": []
   },
   "source": [
    "Next we examine if there are any other rows with missing values. "
   ]
  },
  {
   "cell_type": "code",
   "execution_count": 101,
   "id": "9952444d-8cb2-4a61-8f79-a6ac612cd05b",
   "metadata": {
    "tags": []
   },
   "outputs": [
    {
     "data": {
      "text/html": [
       "<div>\n",
       "<style scoped>\n",
       "    .dataframe tbody tr th:only-of-type {\n",
       "        vertical-align: middle;\n",
       "    }\n",
       "\n",
       "    .dataframe tbody tr th {\n",
       "        vertical-align: top;\n",
       "    }\n",
       "\n",
       "    .dataframe thead th {\n",
       "        text-align: right;\n",
       "    }\n",
       "</style>\n",
       "<table border=\"1\" class=\"dataframe\">\n",
       "  <thead>\n",
       "    <tr style=\"text-align: right;\">\n",
       "      <th></th>\n",
       "      <th>iso-3</th>\n",
       "      <th>1960</th>\n",
       "      <th>1961</th>\n",
       "      <th>1962</th>\n",
       "      <th>1963</th>\n",
       "      <th>1964</th>\n",
       "      <th>1965</th>\n",
       "      <th>1966</th>\n",
       "      <th>1967</th>\n",
       "      <th>1968</th>\n",
       "      <th>...</th>\n",
       "      <th>2011</th>\n",
       "      <th>2012</th>\n",
       "      <th>2013</th>\n",
       "      <th>2014</th>\n",
       "      <th>2015</th>\n",
       "      <th>2016</th>\n",
       "      <th>2017</th>\n",
       "      <th>2018</th>\n",
       "      <th>2019</th>\n",
       "      <th>2020</th>\n",
       "    </tr>\n",
       "  </thead>\n",
       "  <tbody>\n",
       "    <tr>\n",
       "      <th>196</th>\n",
       "      <td>PSE</td>\n",
       "      <td>NaN</td>\n",
       "      <td>NaN</td>\n",
       "      <td>NaN</td>\n",
       "      <td>NaN</td>\n",
       "      <td>NaN</td>\n",
       "      <td>NaN</td>\n",
       "      <td>NaN</td>\n",
       "      <td>NaN</td>\n",
       "      <td>NaN</td>\n",
       "      <td>...</td>\n",
       "      <td>3882986.0</td>\n",
       "      <td>3979998.0</td>\n",
       "      <td>4076708.0</td>\n",
       "      <td>4173398.0</td>\n",
       "      <td>4270092.0</td>\n",
       "      <td>4367088.0</td>\n",
       "      <td>4454805.0</td>\n",
       "      <td>4569087.0</td>\n",
       "      <td>4685306.0</td>\n",
       "      <td>4803269.0</td>\n",
       "    </tr>\n",
       "  </tbody>\n",
       "</table>\n",
       "<p>1 rows × 62 columns</p>\n",
       "</div>"
      ],
      "text/plain": [
       "    iso-3  1960  1961  1962  1963  1964  1965  1966  1967  1968  ...  \\\n",
       "196   PSE   NaN   NaN   NaN   NaN   NaN   NaN   NaN   NaN   NaN  ...   \n",
       "\n",
       "          2011       2012       2013       2014       2015       2016  \\\n",
       "196  3882986.0  3979998.0  4076708.0  4173398.0  4270092.0  4367088.0   \n",
       "\n",
       "          2017       2018       2019       2020  \n",
       "196  4454805.0  4569087.0  4685306.0  4803269.0  \n",
       "\n",
       "[1 rows x 62 columns]"
      ]
     },
     "execution_count": 101,
     "metadata": {},
     "output_type": "execute_result"
    }
   ],
   "source": [
    "rows_with_nan = cleaned_population_df[cleaned_population_df.isna().any(axis=1)]\n",
    "rows_with_nan"
   ]
  },
  {
   "cell_type": "markdown",
   "id": "9c315046-b901-47b1-8fad-2a5d01468eeb",
   "metadata": {},
   "source": [
    "We see that only the row with index `196` has any missing values. To deal with these missing values we use linear regression to predict previous values based on future ones. "
   ]
  },
  {
   "cell_type": "code",
   "execution_count": 102,
   "id": "8beb4a66-a3b6-42c7-a876-afeaac079ef2",
   "metadata": {
    "tags": []
   },
   "outputs": [],
   "source": [
    "# Create a linear regression model\n",
    "model = LinearRegression()\n",
    "\n",
    "# Iterate while there are still NaN values in the row\n",
    "while cleaned_population_df.loc[196].isna().sum() > 0:\n",
    "    # Identify NaN values in the row\n",
    "    nan_indices = cleaned_population_df.loc[196].index[cleaned_population_df.loc[196].isna()]\n",
    "\n",
    "    # Loop over each NaN value from right to left\n",
    "    for nan_idx in nan_indices[::-1]:\n",
    "        # Get the integer position of the column in the dataframe\n",
    "        col_idx = cleaned_population_df.columns.get_loc(nan_idx)  # Get the integer index of the column\n",
    "        \n",
    "        # Select the values to the right of the NaN index using integer slicing\n",
    "        right_values = cleaned_population_df.loc[196].iloc[col_idx+1:]  # all values after the NaN index\n",
    "        \n",
    "        # Check if there are enough values to perform regression (no NaNs in the right values)\n",
    "        if right_values.isna().sum() == 0 and len(right_values) > 1:\n",
    "            # Reshape the data to fit the model\n",
    "            x = np.array(range(len(right_values))).reshape(-1, 1)  # index positions as features\n",
    "            y = right_values.values  # the actual values to predict\n",
    "            \n",
    "            # Train the model on these data points\n",
    "            model.fit(x, y)\n",
    "            \n",
    "            # Predict the value for the current NaN position\n",
    "            predicted_value = model.predict(np.array([[0]]))  # predicting the first value (just before the known ones)\n",
    "            \n",
    "            # Replace the NaN value with the predicted value directly in the dataframe\n",
    "            cleaned_population_df.loc[196, nan_idx] = round(max(predicted_value[0], 18434), 0)"
   ]
  },
  {
   "cell_type": "markdown",
   "id": "52d34c44-37f1-4536-91b5-31fa151c9f34",
   "metadata": {},
   "source": [
    "On the last line of code we used `max()` to ensure that we didn't get any negative values and we replaced the `NaN` with 18434 if this was the case since that was the least positive value we got from the linear regression. If we print the first six values from the row with index `196` we see that the last five values all are 18434 which means that the last four were all negative. The drawback with this is that it's not reasonable that a countries' population did not change at all in five years, but that is a compromise we have to take. We can also notice the increase in population from 1964 to 1965 which is an unlikely increase, but that is also a compromise we have to take with this approach. "
   ]
  },
  {
   "cell_type": "code",
   "execution_count": 103,
   "id": "6fddbde8-039f-4f22-8206-fa6d52997f99",
   "metadata": {
    "tags": []
   },
   "outputs": [
    {
     "data": {
      "text/plain": [
       "iso-3        PSE\n",
       "1960     18434.0\n",
       "1961     18434.0\n",
       "1962     18434.0\n",
       "1963     18434.0\n",
       "1964     18434.0\n",
       "1965     96629.0\n",
       "Name: 196, dtype: object"
      ]
     },
     "execution_count": 103,
     "metadata": {},
     "output_type": "execute_result"
    }
   ],
   "source": [
    "cleaned_population_df.loc[196].head(7) # we use head(7) instead of head(6) since head() also includes the cell from the column \"iso-3\""
   ]
  },
  {
   "cell_type": "markdown",
   "id": "a9408b0b-23c7-4f6f-aff6-5902ee09c30f",
   "metadata": {},
   "source": [
    "Now that we've finally dealt with missing values we can start with combining the cellphone data with the population data. We create a new dataframe `combined_df` with the columns `iso-3`, `year`, `n_cellphones` and `population`."
   ]
  },
  {
   "cell_type": "code",
   "execution_count": 111,
   "id": "8e9b4ff0-9cc0-4a8c-a9e9-10c6447c135f",
   "metadata": {
    "tags": []
   },
   "outputs": [],
   "source": [
    "# Transforms wide-format data (years as columns) into long-format\n",
    "cleaned_cellphones_pivot_df = cleaned_cellphones_df.melt(id_vars=\"iso-3\", var_name=\"year\", value_name=\"n_cellphones\")\n",
    "cleaned_population_pivot_df = cleaned_population_df.melt(id_vars=\"iso-3\", var_name=\"year\", value_name=\"population\")\n",
    "\n",
    "# Merge the two datasets\n",
    "combined_df = pd.merge(\n",
    "    cleaned_cellphones_pivot_df, cleaned_population_pivot_df, on=[\"iso-3\", \"year\"], how=\"outer\"\n",
    ")\n",
    "\n",
    "# Fill missing values (this is necessary since the cellphones data is missing the columns with the years 1961-1964 and 2020)\n",
    "combined_df[\"n_cellphones\"] = combined_df[\"n_cellphones\"].fillna(0)\n",
    "\n",
    "# Sort the data for better readability\n",
    "combined_df = combined_df.sort_values(by=[\"iso-3\", \"year\"]).reset_index(drop=True)"
   ]
  },
  {
   "cell_type": "markdown",
   "id": "6d30f094-e54b-4e6f-8bdd-65753a160513",
   "metadata": {},
   "source": [
    "Now that we've combined the two dataframes we create a new dataframe `filtered_df` to present the table given in the task."
   ]
  },
  {
   "cell_type": "code",
   "execution_count": 112,
   "id": "44b493f1-3a37-4ad9-8de5-2f097a2343f6",
   "metadata": {
    "tags": []
   },
   "outputs": [
    {
     "data": {
      "text/html": [
       "<div>\n",
       "<style scoped>\n",
       "    .dataframe tbody tr th:only-of-type {\n",
       "        vertical-align: middle;\n",
       "    }\n",
       "\n",
       "    .dataframe tbody tr th {\n",
       "        vertical-align: top;\n",
       "    }\n",
       "\n",
       "    .dataframe thead th {\n",
       "        text-align: right;\n",
       "    }\n",
       "</style>\n",
       "<table border=\"1\" class=\"dataframe\">\n",
       "  <thead>\n",
       "    <tr style=\"text-align: right;\">\n",
       "      <th></th>\n",
       "      <th>iso-3</th>\n",
       "      <th>year</th>\n",
       "      <th>n_cellphones</th>\n",
       "      <th>population</th>\n",
       "    </tr>\n",
       "  </thead>\n",
       "  <tbody>\n",
       "    <tr>\n",
       "      <th>0</th>\n",
       "      <td>ABW</td>\n",
       "      <td>1960</td>\n",
       "      <td>0.0</td>\n",
       "      <td>54608.0</td>\n",
       "    </tr>\n",
       "    <tr>\n",
       "      <th>122</th>\n",
       "      <td>AFG</td>\n",
       "      <td>1960</td>\n",
       "      <td>0.0</td>\n",
       "      <td>8622466.0</td>\n",
       "    </tr>\n",
       "    <tr>\n",
       "      <th>244</th>\n",
       "      <td>AGO</td>\n",
       "      <td>1960</td>\n",
       "      <td>0.0</td>\n",
       "      <td>5357195.0</td>\n",
       "    </tr>\n",
       "    <tr>\n",
       "      <th>305</th>\n",
       "      <td>ALB</td>\n",
       "      <td>1960</td>\n",
       "      <td>0.0</td>\n",
       "      <td>1608800.0</td>\n",
       "    </tr>\n",
       "    <tr>\n",
       "      <th>366</th>\n",
       "      <td>AND</td>\n",
       "      <td>1960</td>\n",
       "      <td>0.0</td>\n",
       "      <td>9443.0</td>\n",
       "    </tr>\n",
       "  </tbody>\n",
       "</table>\n",
       "</div>"
      ],
      "text/plain": [
       "    iso-3  year  n_cellphones  population\n",
       "0     ABW  1960           0.0     54608.0\n",
       "122   AFG  1960           0.0   8622466.0\n",
       "244   AGO  1960           0.0   5357195.0\n",
       "305   ALB  1960           0.0   1608800.0\n",
       "366   AND  1960           0.0      9443.0"
      ]
     },
     "execution_count": 112,
     "metadata": {},
     "output_type": "execute_result"
    }
   ],
   "source": [
    "countries_to_include = [\"ABW\", \"AFG\", \"AGO\", \"ALB\", \"AND\"]\n",
    "\n",
    "# Filter the dataframe\n",
    "filtered_df = combined_df[\n",
    "    (combined_df[\"iso-3\"].isin(countries_to_include)) &\n",
    "    (combined_df[\"year\"] == \"1960\")\n",
    "]\n",
    "\n",
    "filtered_df"
   ]
  },
  {
   "cell_type": "markdown",
   "id": "dc6d26e5-bbab-49a3-afe9-2007df9db2d5",
   "metadata": {},
   "source": [
    "Now we merge the dataframe `country_df` with our already merged dataframe `combined_df` so that we use the countries' real names instead of the iso-3 format."
   ]
  },
  {
   "cell_type": "code",
   "execution_count": 154,
   "id": "3454a83f-9ef5-443c-a98e-c688095d265e",
   "metadata": {
    "tags": []
   },
   "outputs": [],
   "source": [
    "# Merge combined_df with country_df on \"iso-3\" and \"alpha-3\"\n",
    "final_df = pd.merge(\n",
    "    combined_df,\n",
    "    country_df,\n",
    "    left_on=\"iso-3\",\n",
    "    right_on=\"alpha-3\",\n",
    "    how=\"inner\"\n",
    ")\n",
    "\n",
    "# Drop the \"iso-3\" and \"alpha-3\" columns, keeping \"name\" as the country identifier\n",
    "final_df = final_df.drop(columns=[\"iso-3\", \"alpha-3\"])\n",
    "\n",
    "# Only include the necessary columns\n",
    "final_df = final_df[[\"name\", \"year\", \"n_cellphones\", \"population\"]]"
   ]
  },
  {
   "cell_type": "markdown",
   "id": "4e490c14-ca54-472c-9bb5-ae1b74da2b96",
   "metadata": {},
   "source": [
    "Next up, we calculate the number of phones per capita and present a table which shows us the top five countries with the highest number of phones per capita sorted for 2019. We also include those countries data for the years 2015-2018 since the table in the task includes those. Notice that we include the years 2010-2019 in the second line of code. This is because we will need those years for the task after this one."
   ]
  },
  {
   "cell_type": "code",
   "execution_count": 191,
   "id": "59867c74-ef9d-4dc2-814b-267b3b284c5b",
   "metadata": {
    "tags": []
   },
   "outputs": [
    {
     "data": {
      "text/html": [
       "<div>\n",
       "<style scoped>\n",
       "    .dataframe tbody tr th:only-of-type {\n",
       "        vertical-align: middle;\n",
       "    }\n",
       "\n",
       "    .dataframe tbody tr th {\n",
       "        vertical-align: top;\n",
       "    }\n",
       "\n",
       "    .dataframe thead th {\n",
       "        text-align: right;\n",
       "    }\n",
       "</style>\n",
       "<table border=\"1\" class=\"dataframe\">\n",
       "  <thead>\n",
       "    <tr style=\"text-align: right;\">\n",
       "      <th></th>\n",
       "      <th>Macao</th>\n",
       "      <th>Hong Kong</th>\n",
       "      <th>United Arab Emirates</th>\n",
       "      <th>Seychelles</th>\n",
       "      <th>Antigua and Barbuda</th>\n",
       "    </tr>\n",
       "    <tr>\n",
       "      <th>year</th>\n",
       "      <th></th>\n",
       "      <th></th>\n",
       "      <th></th>\n",
       "      <th></th>\n",
       "      <th></th>\n",
       "    </tr>\n",
       "  </thead>\n",
       "  <tbody>\n",
       "    <tr>\n",
       "      <th>2015</th>\n",
       "      <td>3.088231</td>\n",
       "      <td>2.290401</td>\n",
       "      <td>2.007424</td>\n",
       "      <td>1.584260</td>\n",
       "      <td>1.956838</td>\n",
       "    </tr>\n",
       "    <tr>\n",
       "      <th>2016</th>\n",
       "      <td>3.143510</td>\n",
       "      <td>2.398931</td>\n",
       "      <td>2.212521</td>\n",
       "      <td>1.605459</td>\n",
       "      <td>1.987545</td>\n",
       "    </tr>\n",
       "    <tr>\n",
       "      <th>2017</th>\n",
       "      <td>3.210102</td>\n",
       "      <td>2.488773</td>\n",
       "      <td>2.183431</td>\n",
       "      <td>1.742433</td>\n",
       "      <td>2.019337</td>\n",
       "    </tr>\n",
       "    <tr>\n",
       "      <th>2018</th>\n",
       "      <td>3.348741</td>\n",
       "      <td>2.670209</td>\n",
       "      <td>2.199084</td>\n",
       "      <td>1.849900</td>\n",
       "      <td>1.964508</td>\n",
       "    </tr>\n",
       "    <tr>\n",
       "      <th>2019</th>\n",
       "      <td>3.114078</td>\n",
       "      <td>2.863650</td>\n",
       "      <td>2.127739</td>\n",
       "      <td>1.987196</td>\n",
       "      <td>1.968507</td>\n",
       "    </tr>\n",
       "  </tbody>\n",
       "</table>\n",
       "</div>"
      ],
      "text/plain": [
       "         Macao  Hong Kong  United Arab Emirates  Seychelles  \\\n",
       "year                                                          \n",
       "2015  3.088231   2.290401              2.007424    1.584260   \n",
       "2016  3.143510   2.398931              2.212521    1.605459   \n",
       "2017  3.210102   2.488773              2.183431    1.742433   \n",
       "2018  3.348741   2.670209              2.199084    1.849900   \n",
       "2019  3.114078   2.863650              2.127739    1.987196   \n",
       "\n",
       "      Antigua and Barbuda  \n",
       "year                       \n",
       "2015             1.956838  \n",
       "2016             1.987545  \n",
       "2017             2.019337  \n",
       "2018             1.964508  \n",
       "2019             1.968507  "
      ]
     },
     "execution_count": 191,
     "metadata": {},
     "output_type": "execute_result"
    }
   ],
   "source": [
    "# Add cellphones_per_capita\n",
    "final_df[\"cellphones_per_capita\"] = final_df[\"n_cellphones\"] / final_df[\"population\"]\n",
    "\n",
    "# Filter for years 2010 to 2019 (useful for a later task)\n",
    "final_df = final_df[final_df[\"year\"].isin([\"2010\", \"2011\", \"2012\", \"2013\", \"2014\", \"2015\", \"2016\", \"2017\", \"2018\", \"2019\"])]\n",
    "\n",
    "# Sort by cellphones_per_capita for 2019 and get top countries\n",
    "filtered_2019 = final_df[final_df[\"year\"] == \"2019\"]\n",
    "top_countries = filtered_2019.nlargest(5, \"cellphones_per_capita\")[\"name\"]\n",
    "\n",
    "# Filter the main dataset for these top countries\n",
    "top_df = final_df[final_df[\"name\"].isin(top_countries)]\n",
    "\n",
    "# Pivot the table to desired format\n",
    "pivot_table = top_df.pivot(index=\"year\", columns=\"name\", values=\"cellphones_per_capita\")\n",
    "pivot_table = pivot_table.sort_values(by=\"2019\", axis=1, ascending=False)\n",
    "\n",
    "# Remove the \"name\" label\n",
    "pivot_table.columns.name = None\n",
    "\n",
    "# Only display the years 2015-2019\n",
    "pivot_table.loc[\"2015\":\"2019\"]"
   ]
  },
  {
   "cell_type": "markdown",
   "id": "eeef0360-51ff-49ac-9056-492eb5225a22",
   "metadata": {},
   "source": [
    "Now we create a plot that illustrates the growth rate of cellphones per capita for the countries in the table above over the last 10 years, as well as print the country with the highest growth rate. "
   ]
  },
  {
   "cell_type": "code",
   "execution_count": 190,
   "id": "b49e408e-ca26-4fc0-bf16-48afce080d97",
   "metadata": {
    "tags": []
   },
   "outputs": [
    {
     "data": {
      "image/png": "[encoded data removed]",
      "text/plain": [
       "<Figure size 900x500 with 1 Axes>"
      ]
     },
     "metadata": {},
     "output_type": "display_data"
    },
    {
     "name": "stdout",
     "output_type": "stream",
     "text": [
      "United Arab Emirates : 0.656\n"
     ]
    }
   ],
   "source": [
    "# Calculate growth rate for each country over the period 2010-2019\n",
    "growth_rates = {}\n",
    "for country in pivot_table.columns:\n",
    "    start_value = pivot_table[country].iloc[0]\n",
    "    end_value = pivot_table[country].iloc[-1]\n",
    "    growth_rate = (end_value - start_value) / start_value\n",
    "    growth_rates[country] = growth_rate\n",
    "\n",
    "# Plot growth rates over the years\n",
    "plt.figure(figsize=(9, 5))\n",
    "\n",
    "for country in pivot_table.columns:\n",
    "    plt.plot(pivot_table.index, pivot_table[country], label=country)\n",
    "\n",
    "plt.title(\"Growth of Cellphones per Capita Over the Last 10 Years\")\n",
    "plt.xlabel(\"Year\")\n",
    "plt.ylabel(\"Cellphones per Capita\")\n",
    "plt.legend(title=\"Countries\", loc=\"upper left\", bbox_to_anchor=(1, 1))\n",
    "plt.grid()\n",
    "plt.tight_layout()\n",
    "\n",
    "plt.show()\n",
    "\n",
    "# Display the country with the highest growth rate and its growth rate\n",
    "print(max(growth_rates), \":\", round(growth_rates[max(growth_rates)],3))\n"
   ]
  },
  {
   "cell_type": "markdown",
   "id": "fe6f7123-d990-4e61-8714-c4e8f4c8dcf0",
   "metadata": {},
   "source": [
    "## SQL"
   ]
  },
  {
   "cell_type": "markdown",
   "id": "9434fc5b-9ed0-4b7e-9c5c-5aa7248a741f",
   "metadata": {},
   "source": [
    "### Data"
   ]
  },
  {
   "cell_type": "code",
   "execution_count": 230,
   "id": "a2c0365d-365b-48bf-ac56-90e57061957c",
   "metadata": {
    "tags": []
   },
   "outputs": [],
   "source": [
    "connection = sql.connect(\"./user_actions.db\")\n",
    "cursor = connection.cursor()"
   ]
  },
  {
   "cell_type": "markdown",
   "id": "913bf45e-a52a-4c7b-9c1c-5c7bc6d30de8",
   "metadata": {},
   "source": [
    "### Tasks"
   ]
  },
  {
   "cell_type": "markdown",
   "id": "191c34a0-e6b6-4d02-ba26-2f51bd098b0a",
   "metadata": {},
   "source": [
    "To retrieve the usernames of all users who have performed the action `signup`, we use a query where we select the user's username from the database `user_actions` if the same user's action is `signup`."
   ]
  },
  {
   "cell_type": "code",
   "execution_count": 231,
   "id": "bd22d5e5-a32e-46da-a814-f7fde0858633",
   "metadata": {
    "tags": []
   },
   "outputs": [
    {
     "data": {
      "text/html": [
       "<div>\n",
       "<style scoped>\n",
       "    .dataframe tbody tr th:only-of-type {\n",
       "        vertical-align: middle;\n",
       "    }\n",
       "\n",
       "    .dataframe tbody tr th {\n",
       "        vertical-align: top;\n",
       "    }\n",
       "\n",
       "    .dataframe thead th {\n",
       "        text-align: right;\n",
       "    }\n",
       "</style>\n",
       "<table border=\"1\" class=\"dataframe\">\n",
       "  <thead>\n",
       "    <tr style=\"text-align: right;\">\n",
       "      <th></th>\n",
       "      <th>username</th>\n",
       "    </tr>\n",
       "  </thead>\n",
       "  <tbody>\n",
       "    <tr>\n",
       "      <th>0</th>\n",
       "      <td>user34</td>\n",
       "    </tr>\n",
       "    <tr>\n",
       "      <th>1</th>\n",
       "      <td>user28</td>\n",
       "    </tr>\n",
       "    <tr>\n",
       "      <th>2</th>\n",
       "      <td>user1</td>\n",
       "    </tr>\n",
       "    <tr>\n",
       "      <th>3</th>\n",
       "      <td>user24</td>\n",
       "    </tr>\n",
       "    <tr>\n",
       "      <th>4</th>\n",
       "      <td>user15</td>\n",
       "    </tr>\n",
       "    <tr>\n",
       "      <th>5</th>\n",
       "      <td>user20</td>\n",
       "    </tr>\n",
       "    <tr>\n",
       "      <th>6</th>\n",
       "      <td>user18</td>\n",
       "    </tr>\n",
       "    <tr>\n",
       "      <th>7</th>\n",
       "      <td>user25</td>\n",
       "    </tr>\n",
       "    <tr>\n",
       "      <th>8</th>\n",
       "      <td>user3</td>\n",
       "    </tr>\n",
       "    <tr>\n",
       "      <th>9</th>\n",
       "      <td>user9</td>\n",
       "    </tr>\n",
       "    <tr>\n",
       "      <th>10</th>\n",
       "      <td>user27</td>\n",
       "    </tr>\n",
       "    <tr>\n",
       "      <th>11</th>\n",
       "      <td>user16</td>\n",
       "    </tr>\n",
       "    <tr>\n",
       "      <th>12</th>\n",
       "      <td>user17</td>\n",
       "    </tr>\n",
       "    <tr>\n",
       "      <th>13</th>\n",
       "      <td>user4</td>\n",
       "    </tr>\n",
       "    <tr>\n",
       "      <th>14</th>\n",
       "      <td>user8</td>\n",
       "    </tr>\n",
       "    <tr>\n",
       "      <th>15</th>\n",
       "      <td>user13</td>\n",
       "    </tr>\n",
       "    <tr>\n",
       "      <th>16</th>\n",
       "      <td>user19</td>\n",
       "    </tr>\n",
       "    <tr>\n",
       "      <th>17</th>\n",
       "      <td>user31</td>\n",
       "    </tr>\n",
       "    <tr>\n",
       "      <th>18</th>\n",
       "      <td>user10</td>\n",
       "    </tr>\n",
       "    <tr>\n",
       "      <th>19</th>\n",
       "      <td>user23</td>\n",
       "    </tr>\n",
       "    <tr>\n",
       "      <th>20</th>\n",
       "      <td>user11</td>\n",
       "    </tr>\n",
       "    <tr>\n",
       "      <th>21</th>\n",
       "      <td>user33</td>\n",
       "    </tr>\n",
       "    <tr>\n",
       "      <th>22</th>\n",
       "      <td>user12</td>\n",
       "    </tr>\n",
       "    <tr>\n",
       "      <th>23</th>\n",
       "      <td>user29</td>\n",
       "    </tr>\n",
       "    <tr>\n",
       "      <th>24</th>\n",
       "      <td>user21</td>\n",
       "    </tr>\n",
       "    <tr>\n",
       "      <th>25</th>\n",
       "      <td>user6</td>\n",
       "    </tr>\n",
       "    <tr>\n",
       "      <th>26</th>\n",
       "      <td>user14</td>\n",
       "    </tr>\n",
       "    <tr>\n",
       "      <th>27</th>\n",
       "      <td>user30</td>\n",
       "    </tr>\n",
       "    <tr>\n",
       "      <th>28</th>\n",
       "      <td>user7</td>\n",
       "    </tr>\n",
       "    <tr>\n",
       "      <th>29</th>\n",
       "      <td>user26</td>\n",
       "    </tr>\n",
       "    <tr>\n",
       "      <th>30</th>\n",
       "      <td>user22</td>\n",
       "    </tr>\n",
       "    <tr>\n",
       "      <th>31</th>\n",
       "      <td>user5</td>\n",
       "    </tr>\n",
       "    <tr>\n",
       "      <th>32</th>\n",
       "      <td>user35</td>\n",
       "    </tr>\n",
       "    <tr>\n",
       "      <th>33</th>\n",
       "      <td>user2</td>\n",
       "    </tr>\n",
       "    <tr>\n",
       "      <th>34</th>\n",
       "      <td>user32</td>\n",
       "    </tr>\n",
       "  </tbody>\n",
       "</table>\n",
       "</div>"
      ],
      "text/plain": [
       "   username\n",
       "0    user34\n",
       "1    user28\n",
       "2     user1\n",
       "3    user24\n",
       "4    user15\n",
       "5    user20\n",
       "6    user18\n",
       "7    user25\n",
       "8     user3\n",
       "9     user9\n",
       "10   user27\n",
       "11   user16\n",
       "12   user17\n",
       "13    user4\n",
       "14    user8\n",
       "15   user13\n",
       "16   user19\n",
       "17   user31\n",
       "18   user10\n",
       "19   user23\n",
       "20   user11\n",
       "21   user33\n",
       "22   user12\n",
       "23   user29\n",
       "24   user21\n",
       "25    user6\n",
       "26   user14\n",
       "27   user30\n",
       "28    user7\n",
       "29   user26\n",
       "30   user22\n",
       "31    user5\n",
       "32   user35\n",
       "33    user2\n",
       "34   user32"
      ]
     },
     "execution_count": 231,
     "metadata": {},
     "output_type": "execute_result"
    }
   ],
   "source": [
    "query = \"\"\"\n",
    "SELECT username \n",
    "FROM user_actions \n",
    "WHERE action = 'signup'\n",
    "\"\"\"\n",
    "\n",
    "cursor.execute(query)\n",
    "pd.read_sql_query(query, connection)"
   ]
  },
  {
   "cell_type": "markdown",
   "id": "df493afc-cc19-444a-bed4-27c9781a6896",
   "metadata": {},
   "source": [
    "To find the total number of log entries for each user and then display the user_id, username, and the count of log entries, we use the following query and then the function `read_sql_query()` from the pandas library to display this information as a table."
   ]
  },
  {
   "cell_type": "code",
   "execution_count": 232,
   "id": "9341ef70-b088-42bc-96d9-686a03c07415",
   "metadata": {
    "tags": []
   },
   "outputs": [
    {
     "data": {
      "text/html": [
       "<div>\n",
       "<style scoped>\n",
       "    .dataframe tbody tr th:only-of-type {\n",
       "        vertical-align: middle;\n",
       "    }\n",
       "\n",
       "    .dataframe tbody tr th {\n",
       "        vertical-align: top;\n",
       "    }\n",
       "\n",
       "    .dataframe thead th {\n",
       "        text-align: right;\n",
       "    }\n",
       "</style>\n",
       "<table border=\"1\" class=\"dataframe\">\n",
       "  <thead>\n",
       "    <tr style=\"text-align: right;\">\n",
       "      <th></th>\n",
       "      <th>user_id</th>\n",
       "      <th>username</th>\n",
       "      <th>log_count</th>\n",
       "    </tr>\n",
       "  </thead>\n",
       "  <tbody>\n",
       "    <tr>\n",
       "      <th>0</th>\n",
       "      <td>1</td>\n",
       "      <td>user1</td>\n",
       "      <td>104</td>\n",
       "    </tr>\n",
       "    <tr>\n",
       "      <th>1</th>\n",
       "      <td>2</td>\n",
       "      <td>user2</td>\n",
       "      <td>149</td>\n",
       "    </tr>\n",
       "    <tr>\n",
       "      <th>2</th>\n",
       "      <td>3</td>\n",
       "      <td>user3</td>\n",
       "      <td>108</td>\n",
       "    </tr>\n",
       "    <tr>\n",
       "      <th>3</th>\n",
       "      <td>4</td>\n",
       "      <td>user4</td>\n",
       "      <td>436</td>\n",
       "    </tr>\n",
       "    <tr>\n",
       "      <th>4</th>\n",
       "      <td>5</td>\n",
       "      <td>user5</td>\n",
       "      <td>192</td>\n",
       "    </tr>\n",
       "    <tr>\n",
       "      <th>5</th>\n",
       "      <td>6</td>\n",
       "      <td>user6</td>\n",
       "      <td>457</td>\n",
       "    </tr>\n",
       "    <tr>\n",
       "      <th>6</th>\n",
       "      <td>7</td>\n",
       "      <td>user7</td>\n",
       "      <td>362</td>\n",
       "    </tr>\n",
       "    <tr>\n",
       "      <th>7</th>\n",
       "      <td>8</td>\n",
       "      <td>user8</td>\n",
       "      <td>329</td>\n",
       "    </tr>\n",
       "    <tr>\n",
       "      <th>8</th>\n",
       "      <td>9</td>\n",
       "      <td>user9</td>\n",
       "      <td>118</td>\n",
       "    </tr>\n",
       "    <tr>\n",
       "      <th>9</th>\n",
       "      <td>10</td>\n",
       "      <td>user10</td>\n",
       "      <td>170</td>\n",
       "    </tr>\n",
       "    <tr>\n",
       "      <th>10</th>\n",
       "      <td>11</td>\n",
       "      <td>user11</td>\n",
       "      <td>328</td>\n",
       "    </tr>\n",
       "    <tr>\n",
       "      <th>11</th>\n",
       "      <td>12</td>\n",
       "      <td>user12</td>\n",
       "      <td>209</td>\n",
       "    </tr>\n",
       "    <tr>\n",
       "      <th>12</th>\n",
       "      <td>13</td>\n",
       "      <td>user13</td>\n",
       "      <td>470</td>\n",
       "    </tr>\n",
       "    <tr>\n",
       "      <th>13</th>\n",
       "      <td>14</td>\n",
       "      <td>user14</td>\n",
       "      <td>320</td>\n",
       "    </tr>\n",
       "    <tr>\n",
       "      <th>14</th>\n",
       "      <td>15</td>\n",
       "      <td>user15</td>\n",
       "      <td>35</td>\n",
       "    </tr>\n",
       "    <tr>\n",
       "      <th>15</th>\n",
       "      <td>16</td>\n",
       "      <td>user16</td>\n",
       "      <td>379</td>\n",
       "    </tr>\n",
       "    <tr>\n",
       "      <th>16</th>\n",
       "      <td>17</td>\n",
       "      <td>user17</td>\n",
       "      <td>367</td>\n",
       "    </tr>\n",
       "    <tr>\n",
       "      <th>17</th>\n",
       "      <td>18</td>\n",
       "      <td>user18</td>\n",
       "      <td>122</td>\n",
       "    </tr>\n",
       "    <tr>\n",
       "      <th>18</th>\n",
       "      <td>19</td>\n",
       "      <td>user19</td>\n",
       "      <td>58</td>\n",
       "    </tr>\n",
       "    <tr>\n",
       "      <th>19</th>\n",
       "      <td>20</td>\n",
       "      <td>user20</td>\n",
       "      <td>362</td>\n",
       "    </tr>\n",
       "    <tr>\n",
       "      <th>20</th>\n",
       "      <td>21</td>\n",
       "      <td>user21</td>\n",
       "      <td>323</td>\n",
       "    </tr>\n",
       "    <tr>\n",
       "      <th>21</th>\n",
       "      <td>22</td>\n",
       "      <td>user22</td>\n",
       "      <td>275</td>\n",
       "    </tr>\n",
       "    <tr>\n",
       "      <th>22</th>\n",
       "      <td>23</td>\n",
       "      <td>user23</td>\n",
       "      <td>309</td>\n",
       "    </tr>\n",
       "    <tr>\n",
       "      <th>23</th>\n",
       "      <td>24</td>\n",
       "      <td>user24</td>\n",
       "      <td>162</td>\n",
       "    </tr>\n",
       "    <tr>\n",
       "      <th>24</th>\n",
       "      <td>25</td>\n",
       "      <td>user25</td>\n",
       "      <td>136</td>\n",
       "    </tr>\n",
       "    <tr>\n",
       "      <th>25</th>\n",
       "      <td>26</td>\n",
       "      <td>user26</td>\n",
       "      <td>217</td>\n",
       "    </tr>\n",
       "    <tr>\n",
       "      <th>26</th>\n",
       "      <td>27</td>\n",
       "      <td>user27</td>\n",
       "      <td>211</td>\n",
       "    </tr>\n",
       "    <tr>\n",
       "      <th>27</th>\n",
       "      <td>28</td>\n",
       "      <td>user28</td>\n",
       "      <td>91</td>\n",
       "    </tr>\n",
       "    <tr>\n",
       "      <th>28</th>\n",
       "      <td>29</td>\n",
       "      <td>user29</td>\n",
       "      <td>49</td>\n",
       "    </tr>\n",
       "    <tr>\n",
       "      <th>29</th>\n",
       "      <td>30</td>\n",
       "      <td>user30</td>\n",
       "      <td>165</td>\n",
       "    </tr>\n",
       "    <tr>\n",
       "      <th>30</th>\n",
       "      <td>31</td>\n",
       "      <td>user31</td>\n",
       "      <td>389</td>\n",
       "    </tr>\n",
       "    <tr>\n",
       "      <th>31</th>\n",
       "      <td>32</td>\n",
       "      <td>user32</td>\n",
       "      <td>32</td>\n",
       "    </tr>\n",
       "    <tr>\n",
       "      <th>32</th>\n",
       "      <td>33</td>\n",
       "      <td>user33</td>\n",
       "      <td>32</td>\n",
       "    </tr>\n",
       "    <tr>\n",
       "      <th>33</th>\n",
       "      <td>34</td>\n",
       "      <td>user34</td>\n",
       "      <td>180</td>\n",
       "    </tr>\n",
       "    <tr>\n",
       "      <th>34</th>\n",
       "      <td>35</td>\n",
       "      <td>user35</td>\n",
       "      <td>394</td>\n",
       "    </tr>\n",
       "  </tbody>\n",
       "</table>\n",
       "</div>"
      ],
      "text/plain": [
       "    user_id username  log_count\n",
       "0         1    user1        104\n",
       "1         2    user2        149\n",
       "2         3    user3        108\n",
       "3         4    user4        436\n",
       "4         5    user5        192\n",
       "5         6    user6        457\n",
       "6         7    user7        362\n",
       "7         8    user8        329\n",
       "8         9    user9        118\n",
       "9        10   user10        170\n",
       "10       11   user11        328\n",
       "11       12   user12        209\n",
       "12       13   user13        470\n",
       "13       14   user14        320\n",
       "14       15   user15         35\n",
       "15       16   user16        379\n",
       "16       17   user17        367\n",
       "17       18   user18        122\n",
       "18       19   user19         58\n",
       "19       20   user20        362\n",
       "20       21   user21        323\n",
       "21       22   user22        275\n",
       "22       23   user23        309\n",
       "23       24   user24        162\n",
       "24       25   user25        136\n",
       "25       26   user26        217\n",
       "26       27   user27        211\n",
       "27       28   user28         91\n",
       "28       29   user29         49\n",
       "29       30   user30        165\n",
       "30       31   user31        389\n",
       "31       32   user32         32\n",
       "32       33   user33         32\n",
       "33       34   user34        180\n",
       "34       35   user35        394"
      ]
     },
     "execution_count": 232,
     "metadata": {},
     "output_type": "execute_result"
    }
   ],
   "source": [
    "query = \"\"\"\n",
    "SELECT user_id, username, COUNT(*) AS log_count\n",
    "FROM user_actions\n",
    "GROUP BY user_id, username\n",
    "\"\"\"\n",
    "\n",
    "pd.read_sql_query(query, connection)"
   ]
  },
  {
   "cell_type": "markdown",
   "id": "9bef84a7-2f08-47f6-ad92-0d314ac89f43",
   "metadata": {},
   "source": [
    "To identify users who have both logged in and signed up on the same day and then display the user_id and username, we use the following query where:\n",
    "- `DISTICT` ensures that each user only appears once in the table\n",
    "- `ua1` and `ua2` are aliases that are used to distinguish between the two user actions `signup` and `login`\n"
   ]
  },
  {
   "cell_type": "code",
   "execution_count": 233,
   "id": "11607775-0e22-4667-af4f-185c20e3bb50",
   "metadata": {
    "tags": []
   },
   "outputs": [
    {
     "data": {
      "text/html": [
       "<div>\n",
       "<style scoped>\n",
       "    .dataframe tbody tr th:only-of-type {\n",
       "        vertical-align: middle;\n",
       "    }\n",
       "\n",
       "    .dataframe tbody tr th {\n",
       "        vertical-align: top;\n",
       "    }\n",
       "\n",
       "    .dataframe thead th {\n",
       "        text-align: right;\n",
       "    }\n",
       "</style>\n",
       "<table border=\"1\" class=\"dataframe\">\n",
       "  <thead>\n",
       "    <tr style=\"text-align: right;\">\n",
       "      <th></th>\n",
       "      <th>user_id</th>\n",
       "      <th>username</th>\n",
       "    </tr>\n",
       "  </thead>\n",
       "  <tbody>\n",
       "    <tr>\n",
       "      <th>0</th>\n",
       "      <td>8</td>\n",
       "      <td>user8</td>\n",
       "    </tr>\n",
       "    <tr>\n",
       "      <th>1</th>\n",
       "      <td>12</td>\n",
       "      <td>user12</td>\n",
       "    </tr>\n",
       "    <tr>\n",
       "      <th>2</th>\n",
       "      <td>30</td>\n",
       "      <td>user30</td>\n",
       "    </tr>\n",
       "    <tr>\n",
       "      <th>3</th>\n",
       "      <td>7</td>\n",
       "      <td>user7</td>\n",
       "    </tr>\n",
       "    <tr>\n",
       "      <th>4</th>\n",
       "      <td>22</td>\n",
       "      <td>user22</td>\n",
       "    </tr>\n",
       "    <tr>\n",
       "      <th>5</th>\n",
       "      <td>5</td>\n",
       "      <td>user5</td>\n",
       "    </tr>\n",
       "    <tr>\n",
       "      <th>6</th>\n",
       "      <td>2</td>\n",
       "      <td>user2</td>\n",
       "    </tr>\n",
       "    <tr>\n",
       "      <th>7</th>\n",
       "      <td>32</td>\n",
       "      <td>user32</td>\n",
       "    </tr>\n",
       "  </tbody>\n",
       "</table>\n",
       "</div>"
      ],
      "text/plain": [
       "   user_id username\n",
       "0        8    user8\n",
       "1       12   user12\n",
       "2       30   user30\n",
       "3        7    user7\n",
       "4       22   user22\n",
       "5        5    user5\n",
       "6        2    user2\n",
       "7       32   user32"
      ]
     },
     "execution_count": 233,
     "metadata": {},
     "output_type": "execute_result"
    }
   ],
   "source": [
    "query = \"\"\"\n",
    "SELECT DISTINCT ua1.user_id, ua2.username\n",
    "FROM user_actions ua1\n",
    "JOIN user_actions ua2\n",
    "ON ua1.user_id = ua2.user_id\n",
    "WHERE ua1.action = 'signup' \n",
    "  AND ua2.action = 'login'\n",
    "  AND DATE(ua1.timestamp) = DATE(ua2.timestamp);\n",
    "\"\"\"\n",
    "\n",
    "pd.read_sql_query(query, connection)"
   ]
  },
  {
   "cell_type": "markdown",
   "id": "5dbd8eac-a357-436b-adb1-bfec817ebd3b",
   "metadata": {},
   "source": [
    "## Regex"
   ]
  },
  {
   "cell_type": "markdown",
   "id": "a92dcd10-4fce-46a3-9f11-1902a15c9246",
   "metadata": {
    "tags": []
   },
   "source": [
    "### Data"
   ]
  },
  {
   "cell_type": "markdown",
   "id": "c51c4e61-73de-4451-9d54-3d43dde1bcfd",
   "metadata": {},
   "source": [
    "Here we append each line/comment to a list `comments`. "
   ]
  },
  {
   "cell_type": "code",
   "execution_count": 286,
   "id": "6d4edce1-f8ed-45fc-a83d-29e2d928ad7b",
   "metadata": {
    "tags": []
   },
   "outputs": [],
   "source": [
    "comments = []\n",
    "with open(\"./comments.txt\", \"r\") as file:\n",
    "    for line in file:\n",
    "        comments.append(line.strip())"
   ]
  },
  {
   "cell_type": "markdown",
   "id": "321e372a-1eb6-4762-a319-1bcf11b1f8fe",
   "metadata": {
    "tags": []
   },
   "source": [
    "### Tasks"
   ]
  },
  {
   "cell_type": "markdown",
   "id": "4562c3a2-5c1f-4186-ae2d-ad677f796d7c",
   "metadata": {},
   "source": [
    "We write a function `extract_hashtags()` that extracts all the words starting with a `#` from `comment`."
   ]
  },
  {
   "cell_type": "code",
   "execution_count": 287,
   "id": "d97cc691-55f4-442c-9cce-c78569ccffbd",
   "metadata": {
    "tags": []
   },
   "outputs": [],
   "source": [
    "def extract_hashtags(comment):\n",
    "    return re.findall(r\"#\\w+\", comment)"
   ]
  },
  {
   "cell_type": "markdown",
   "id": "10aa247d-9a61-48fe-98cd-99a5cca3530f",
   "metadata": {},
   "source": [
    "If we apply this function to, for example comment 9 in the textfile, we get the following:"
   ]
  },
  {
   "cell_type": "code",
   "execution_count": 288,
   "id": "ca3fcfc5-719d-4ebf-bcab-9da49acc0955",
   "metadata": {
    "tags": []
   },
   "outputs": [
    {
     "data": {
      "text/plain": [
       "['#data', '#analytics']"
      ]
     },
     "execution_count": 288,
     "metadata": {},
     "output_type": "execute_result"
    }
   ],
   "source": [
    "extract_hashtags(comments[8]) # we use the position 9-1=8 since indexing in python starts at 0"
   ]
  },
  {
   "cell_type": "markdown",
   "id": "8a3135f9-95df-4677-9789-acb6e0c041a2",
   "metadata": {},
   "source": [
    "Next we create a regular expression to find comments that mention both \"#programming\" and \"#python\". For this we iterate through each comment and then use `re.search()` to check if each comment matches our specified pattern, if it does then we append it to the list `matching_comments`. If we then print each comment in this list we see that comment 2 is not in it."
   ]
  },
  {
   "cell_type": "code",
   "execution_count": 292,
   "id": "d184008f-8c47-4347-b38a-7251aa78efa8",
   "metadata": {
    "tags": []
   },
   "outputs": [
    {
     "name": "stdout",
     "output_type": "stream",
     "text": [
      "6. \"I learned a lot. #programming #python #tips\"\n",
      "15. \"Well explained. #programming #python #tips\"\n",
      "21. \"Love the content! #programming #python #tips\"\n",
      "30. \"Inspired by the tips. #programming #python #tips\"\n"
     ]
    }
   ],
   "source": [
    "pattern = r\"(?=.*#programming)(?=.*#python)\"\n",
    "\n",
    "matching_comments = []\n",
    "for comment in comments:\n",
    "    if re.search(pattern, comment):\n",
    "        matching_comments.append(comment.strip())\n",
    "\n",
    "for comment in matching_comments:\n",
    "    print(comment)"
   ]
  },
  {
   "cell_type": "code",
   "execution_count": null,
   "id": "97c8350d-c150-4b4e-848c-82a00b4c5725",
   "metadata": {},
   "outputs": [],
   "source": []
  }
 ],
 "metadata": {
  "kernelspec": {
   "display_name": "Python 3 (ipykernel)",
   "language": "python",
   "name": "python3"
  },
  "language_info": {
   "codemirror_mode": {
    "name": "ipython",
    "version": 3
   },
   "file_extension": ".py",
   "mimetype": "text/x-python",
   "name": "python",
   "nbconvert_exporter": "python",
   "pygments_lexer": "ipython3",
   "version": "3.11.5"
  }
 },
 "nbformat": 4,
 "nbformat_minor": 5
}
