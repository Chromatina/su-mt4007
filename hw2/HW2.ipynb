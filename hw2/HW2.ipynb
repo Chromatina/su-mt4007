{
 "cells": [
  {
   "cell_type": "markdown",
   "id": "4b7f2f4a-a1f8-45af-a30e-1c31ed550b0d",
   "metadata": {},
   "source": [
    "# Homework 2"
   ]
  },
  {
   "cell_type": "code",
   "execution_count": 2,
   "id": "690cf936-947b-466e-abdf-4c6697945118",
   "metadata": {},
   "outputs": [],
   "source": [
    "import pandas as pd\n",
    "import matplotlib.pyplot as plt"
   ]
  },
  {
   "cell_type": "markdown",
   "id": "284ecc27-9d22-44d6-b448-f371d30891e8",
   "metadata": {
    "tags": []
   },
   "source": [
    "## Apartment Prices"
   ]
  },
  {
   "cell_type": "markdown",
   "id": "cb4f7371-8ac9-4075-8d5b-7bb5c0db6e17",
   "metadata": {
    "tags": []
   },
   "source": [
    "### Data"
   ]
  },
  {
   "cell_type": "code",
   "execution_count": 3,
   "id": "92a33751-bb82-41f5-95a3-0245a5e6bda7",
   "metadata": {},
   "outputs": [],
   "source": [
    "apartment_df = pd.read_csv(\"https://raw.githubusercontent.com/su-mt4007/data/refs/heads/main/Booli_sold.csv\")"
   ]
  },
  {
   "cell_type": "markdown",
   "id": "a360d6d1-ef0d-43c1-84c0-fe3fde0d448b",
   "metadata": {},
   "source": [
    "### 1. Calculate ppsqm"
   ]
  },
  {
   "cell_type": "code",
   "execution_count": 4,
   "id": "ecfbbb86-3a75-4117-9e4a-9d49655a5d93",
   "metadata": {
    "scrolled": true
   },
   "outputs": [],
   "source": [
    "living_area = apartment_df[\"livingArea\"]\n",
    "price = apartment_df[\"soldPrice\"]\n",
    "ppsqm = round(price/living_area,1)"
   ]
  },
  {
   "cell_type": "markdown",
   "id": "ee5db3aa-1df8-4b27-a8dd-05e6a77b2a25",
   "metadata": {},
   "source": [
    "We now create a new dataframe to add the new variable `ppsqm`."
   ]
  },
  {
   "cell_type": "code",
   "execution_count": 5,
   "id": "06a59eae-2e7c-484a-ad59-e132d5b7af28",
   "metadata": {
    "scrolled": true
   },
   "outputs": [
    {
     "data": {
      "text/html": [
       "<div>\n",
       "<style scoped>\n",
       "    .dataframe tbody tr th:only-of-type {\n",
       "        vertical-align: middle;\n",
       "    }\n",
       "\n",
       "    .dataframe tbody tr th {\n",
       "        vertical-align: top;\n",
       "    }\n",
       "\n",
       "    .dataframe thead th {\n",
       "        text-align: right;\n",
       "    }\n",
       "</style>\n",
       "<table border=\"1\" class=\"dataframe\">\n",
       "  <thead>\n",
       "    <tr style=\"text-align: right;\">\n",
       "      <th></th>\n",
       "      <th>listPrice</th>\n",
       "      <th>rent</th>\n",
       "      <th>livingArea</th>\n",
       "      <th>rooms</th>\n",
       "      <th>published</th>\n",
       "      <th>constructionYear</th>\n",
       "      <th>objectType</th>\n",
       "      <th>booliId</th>\n",
       "      <th>soldDate</th>\n",
       "      <th>soldPrice</th>\n",
       "      <th>...</th>\n",
       "      <th>location.position.longitude</th>\n",
       "      <th>location.position.isApproximate</th>\n",
       "      <th>location.region.municipalityName</th>\n",
       "      <th>location.region.countyName</th>\n",
       "      <th>location.distance.ocean</th>\n",
       "      <th>source.name</th>\n",
       "      <th>source.id</th>\n",
       "      <th>source.type</th>\n",
       "      <th>source.url</th>\n",
       "      <th>ppsqm</th>\n",
       "    </tr>\n",
       "  </thead>\n",
       "  <tbody>\n",
       "    <tr>\n",
       "      <th>0</th>\n",
       "      <td>3995000</td>\n",
       "      <td>4467.0</td>\n",
       "      <td>73.0</td>\n",
       "      <td>3.0</td>\n",
       "      <td>2018-10-15 13:33:18</td>\n",
       "      <td>1935.0</td>\n",
       "      <td>Lägenhet</td>\n",
       "      <td>3263989</td>\n",
       "      <td>2018-11-08</td>\n",
       "      <td>3820000</td>\n",
       "      <td>...</td>\n",
       "      <td>18.054057</td>\n",
       "      <td>NaN</td>\n",
       "      <td>Stockholm</td>\n",
       "      <td>Stockholms län</td>\n",
       "      <td>260</td>\n",
       "      <td>MOHV</td>\n",
       "      <td>1901865</td>\n",
       "      <td>Broker</td>\n",
       "      <td>http://www.mohv.se/</td>\n",
       "      <td>52328.8</td>\n",
       "    </tr>\n",
       "    <tr>\n",
       "      <th>1</th>\n",
       "      <td>1995000</td>\n",
       "      <td>1773.0</td>\n",
       "      <td>36.0</td>\n",
       "      <td>1.0</td>\n",
       "      <td>2018-10-05 14:29:28</td>\n",
       "      <td>1968.0</td>\n",
       "      <td>Lägenhet</td>\n",
       "      <td>3256231</td>\n",
       "      <td>2018-10-19</td>\n",
       "      <td>2355000</td>\n",
       "      <td>...</td>\n",
       "      <td>18.057821</td>\n",
       "      <td>NaN</td>\n",
       "      <td>Stockholm</td>\n",
       "      <td>Stockholms län</td>\n",
       "      <td>218</td>\n",
       "      <td>Notar</td>\n",
       "      <td>1566</td>\n",
       "      <td>Broker</td>\n",
       "      <td>http://www.notar.se/</td>\n",
       "      <td>65416.7</td>\n",
       "    </tr>\n",
       "    <tr>\n",
       "      <th>2</th>\n",
       "      <td>5100000</td>\n",
       "      <td>3839.0</td>\n",
       "      <td>81.0</td>\n",
       "      <td>3.0</td>\n",
       "      <td>2018-09-11 13:44:43</td>\n",
       "      <td>1936.0</td>\n",
       "      <td>Lägenhet</td>\n",
       "      <td>3236660</td>\n",
       "      <td>2018-09-27</td>\n",
       "      <td>6110000</td>\n",
       "      <td>...</td>\n",
       "      <td>18.054716</td>\n",
       "      <td>NaN</td>\n",
       "      <td>Stockholm</td>\n",
       "      <td>Stockholms län</td>\n",
       "      <td>186</td>\n",
       "      <td>Historiska Hem AB</td>\n",
       "      <td>65645750</td>\n",
       "      <td>Broker</td>\n",
       "      <td>http://historiskahem.se/</td>\n",
       "      <td>75432.1</td>\n",
       "    </tr>\n",
       "    <tr>\n",
       "      <th>3</th>\n",
       "      <td>5495000</td>\n",
       "      <td>4483.0</td>\n",
       "      <td>107.0</td>\n",
       "      <td>4.0</td>\n",
       "      <td>2018-08-25 02:56:56</td>\n",
       "      <td>1936.0</td>\n",
       "      <td>Lägenhet</td>\n",
       "      <td>3224374</td>\n",
       "      <td>2018-09-06</td>\n",
       "      <td>8050000</td>\n",
       "      <td>...</td>\n",
       "      <td>18.053880</td>\n",
       "      <td>NaN</td>\n",
       "      <td>Stockholm</td>\n",
       "      <td>Stockholms län</td>\n",
       "      <td>218</td>\n",
       "      <td>Notar</td>\n",
       "      <td>1566</td>\n",
       "      <td>Broker</td>\n",
       "      <td>http://www.notar.se/</td>\n",
       "      <td>75233.6</td>\n",
       "    </tr>\n",
       "    <tr>\n",
       "      <th>4</th>\n",
       "      <td>1995000</td>\n",
       "      <td>1696.0</td>\n",
       "      <td>29.0</td>\n",
       "      <td>1.0</td>\n",
       "      <td>2018-06-15 17:16:19</td>\n",
       "      <td>1936.0</td>\n",
       "      <td>Lägenhet</td>\n",
       "      <td>3185496</td>\n",
       "      <td>2018-06-18</td>\n",
       "      <td>2400000</td>\n",
       "      <td>...</td>\n",
       "      <td>18.053542</td>\n",
       "      <td>True</td>\n",
       "      <td>Stockholm</td>\n",
       "      <td>Stockholms län</td>\n",
       "      <td>166</td>\n",
       "      <td>Mäklarhuset</td>\n",
       "      <td>204</td>\n",
       "      <td>Broker</td>\n",
       "      <td>http://www.maklarhuset.se/</td>\n",
       "      <td>82758.6</td>\n",
       "    </tr>\n",
       "    <tr>\n",
       "      <th>...</th>\n",
       "      <td>...</td>\n",
       "      <td>...</td>\n",
       "      <td>...</td>\n",
       "      <td>...</td>\n",
       "      <td>...</td>\n",
       "      <td>...</td>\n",
       "      <td>...</td>\n",
       "      <td>...</td>\n",
       "      <td>...</td>\n",
       "      <td>...</td>\n",
       "      <td>...</td>\n",
       "      <td>...</td>\n",
       "      <td>...</td>\n",
       "      <td>...</td>\n",
       "      <td>...</td>\n",
       "      <td>...</td>\n",
       "      <td>...</td>\n",
       "      <td>...</td>\n",
       "      <td>...</td>\n",
       "      <td>...</td>\n",
       "      <td>...</td>\n",
       "    </tr>\n",
       "    <tr>\n",
       "      <th>153</th>\n",
       "      <td>1495000</td>\n",
       "      <td>1388.0</td>\n",
       "      <td>26.0</td>\n",
       "      <td>1.0</td>\n",
       "      <td>2012-10-20 07:36:37</td>\n",
       "      <td>1935.0</td>\n",
       "      <td>Lägenhet</td>\n",
       "      <td>1297784</td>\n",
       "      <td>2012-11-30</td>\n",
       "      <td>1475000</td>\n",
       "      <td>...</td>\n",
       "      <td>18.055659</td>\n",
       "      <td>True</td>\n",
       "      <td>Stockholm</td>\n",
       "      <td>Stockholms län</td>\n",
       "      <td>101</td>\n",
       "      <td>Notar</td>\n",
       "      <td>1566</td>\n",
       "      <td>Broker</td>\n",
       "      <td>http://www.notar.se/</td>\n",
       "      <td>56730.8</td>\n",
       "    </tr>\n",
       "    <tr>\n",
       "      <th>154</th>\n",
       "      <td>2245000</td>\n",
       "      <td>2455.0</td>\n",
       "      <td>50.0</td>\n",
       "      <td>2.0</td>\n",
       "      <td>2012-10-19 15:32:58</td>\n",
       "      <td>1935.0</td>\n",
       "      <td>Lägenhet</td>\n",
       "      <td>1296874</td>\n",
       "      <td>2012-10-27</td>\n",
       "      <td>2245000</td>\n",
       "      <td>...</td>\n",
       "      <td>18.055659</td>\n",
       "      <td>True</td>\n",
       "      <td>Stockholm</td>\n",
       "      <td>Stockholms län</td>\n",
       "      <td>101</td>\n",
       "      <td>Notar</td>\n",
       "      <td>1566</td>\n",
       "      <td>Broker</td>\n",
       "      <td>http://www.notar.se/</td>\n",
       "      <td>44900.0</td>\n",
       "    </tr>\n",
       "    <tr>\n",
       "      <th>155</th>\n",
       "      <td>1450000</td>\n",
       "      <td>1072.0</td>\n",
       "      <td>23.0</td>\n",
       "      <td>1.0</td>\n",
       "      <td>2012-09-14 05:10:08</td>\n",
       "      <td>1936.0</td>\n",
       "      <td>Lägenhet</td>\n",
       "      <td>1270599</td>\n",
       "      <td>2012-10-22</td>\n",
       "      <td>1450000</td>\n",
       "      <td>...</td>\n",
       "      <td>18.053552</td>\n",
       "      <td>NaN</td>\n",
       "      <td>Stockholm</td>\n",
       "      <td>Stockholms län</td>\n",
       "      <td>255</td>\n",
       "      <td>Notar</td>\n",
       "      <td>1566</td>\n",
       "      <td>Broker</td>\n",
       "      <td>http://www.notar.se/</td>\n",
       "      <td>63043.5</td>\n",
       "    </tr>\n",
       "    <tr>\n",
       "      <th>156</th>\n",
       "      <td>2495000</td>\n",
       "      <td>2748.0</td>\n",
       "      <td>56.0</td>\n",
       "      <td>3.0</td>\n",
       "      <td>2012-09-21 12:19:37</td>\n",
       "      <td>1935.0</td>\n",
       "      <td>Lägenhet</td>\n",
       "      <td>1276232</td>\n",
       "      <td>2012-10-09</td>\n",
       "      <td>2200000</td>\n",
       "      <td>...</td>\n",
       "      <td>18.054634</td>\n",
       "      <td>True</td>\n",
       "      <td>Stockholm</td>\n",
       "      <td>Stockholms län</td>\n",
       "      <td>70</td>\n",
       "      <td>Notar</td>\n",
       "      <td>1566</td>\n",
       "      <td>Broker</td>\n",
       "      <td>http://www.notar.se/</td>\n",
       "      <td>39285.7</td>\n",
       "    </tr>\n",
       "    <tr>\n",
       "      <th>157</th>\n",
       "      <td>2300000</td>\n",
       "      <td>2455.0</td>\n",
       "      <td>50.0</td>\n",
       "      <td>2.0</td>\n",
       "      <td>2012-09-16 02:33:35</td>\n",
       "      <td>1935.0</td>\n",
       "      <td>Lägenhet</td>\n",
       "      <td>1272477</td>\n",
       "      <td>2012-10-09</td>\n",
       "      <td>2180000</td>\n",
       "      <td>...</td>\n",
       "      <td>18.055659</td>\n",
       "      <td>True</td>\n",
       "      <td>Stockholm</td>\n",
       "      <td>Stockholms län</td>\n",
       "      <td>101</td>\n",
       "      <td>Notar</td>\n",
       "      <td>1566</td>\n",
       "      <td>Broker</td>\n",
       "      <td>http://www.notar.se/</td>\n",
       "      <td>43600.0</td>\n",
       "    </tr>\n",
       "  </tbody>\n",
       "</table>\n",
       "<p>158 rows × 28 columns</p>\n",
       "</div>"
      ],
      "text/plain": [
       "     listPrice    rent  livingArea  rooms            published  \\\n",
       "0      3995000  4467.0        73.0    3.0  2018-10-15 13:33:18   \n",
       "1      1995000  1773.0        36.0    1.0  2018-10-05 14:29:28   \n",
       "2      5100000  3839.0        81.0    3.0  2018-09-11 13:44:43   \n",
       "3      5495000  4483.0       107.0    4.0  2018-08-25 02:56:56   \n",
       "4      1995000  1696.0        29.0    1.0  2018-06-15 17:16:19   \n",
       "..         ...     ...         ...    ...                  ...   \n",
       "153    1495000  1388.0        26.0    1.0  2012-10-20 07:36:37   \n",
       "154    2245000  2455.0        50.0    2.0  2012-10-19 15:32:58   \n",
       "155    1450000  1072.0        23.0    1.0  2012-09-14 05:10:08   \n",
       "156    2495000  2748.0        56.0    3.0  2012-09-21 12:19:37   \n",
       "157    2300000  2455.0        50.0    2.0  2012-09-16 02:33:35   \n",
       "\n",
       "     constructionYear objectType  booliId    soldDate  soldPrice  ...  \\\n",
       "0              1935.0   Lägenhet  3263989  2018-11-08    3820000  ...   \n",
       "1              1968.0   Lägenhet  3256231  2018-10-19    2355000  ...   \n",
       "2              1936.0   Lägenhet  3236660  2018-09-27    6110000  ...   \n",
       "3              1936.0   Lägenhet  3224374  2018-09-06    8050000  ...   \n",
       "4              1936.0   Lägenhet  3185496  2018-06-18    2400000  ...   \n",
       "..                ...        ...      ...         ...        ...  ...   \n",
       "153            1935.0   Lägenhet  1297784  2012-11-30    1475000  ...   \n",
       "154            1935.0   Lägenhet  1296874  2012-10-27    2245000  ...   \n",
       "155            1936.0   Lägenhet  1270599  2012-10-22    1450000  ...   \n",
       "156            1935.0   Lägenhet  1276232  2012-10-09    2200000  ...   \n",
       "157            1935.0   Lägenhet  1272477  2012-10-09    2180000  ...   \n",
       "\n",
       "    location.position.longitude location.position.isApproximate  \\\n",
       "0                     18.054057                             NaN   \n",
       "1                     18.057821                             NaN   \n",
       "2                     18.054716                             NaN   \n",
       "3                     18.053880                             NaN   \n",
       "4                     18.053542                            True   \n",
       "..                          ...                             ...   \n",
       "153                   18.055659                            True   \n",
       "154                   18.055659                            True   \n",
       "155                   18.053552                             NaN   \n",
       "156                   18.054634                            True   \n",
       "157                   18.055659                            True   \n",
       "\n",
       "     location.region.municipalityName  location.region.countyName  \\\n",
       "0                           Stockholm              Stockholms län   \n",
       "1                           Stockholm              Stockholms län   \n",
       "2                           Stockholm              Stockholms län   \n",
       "3                           Stockholm              Stockholms län   \n",
       "4                           Stockholm              Stockholms län   \n",
       "..                                ...                         ...   \n",
       "153                         Stockholm              Stockholms län   \n",
       "154                         Stockholm              Stockholms län   \n",
       "155                         Stockholm              Stockholms län   \n",
       "156                         Stockholm              Stockholms län   \n",
       "157                         Stockholm              Stockholms län   \n",
       "\n",
       "     location.distance.ocean        source.name source.id  source.type  \\\n",
       "0                        260               MOHV   1901865       Broker   \n",
       "1                        218              Notar      1566       Broker   \n",
       "2                        186  Historiska Hem AB  65645750       Broker   \n",
       "3                        218              Notar      1566       Broker   \n",
       "4                        166        Mäklarhuset       204       Broker   \n",
       "..                       ...                ...       ...          ...   \n",
       "153                      101              Notar      1566       Broker   \n",
       "154                      101              Notar      1566       Broker   \n",
       "155                      255              Notar      1566       Broker   \n",
       "156                       70              Notar      1566       Broker   \n",
       "157                      101              Notar      1566       Broker   \n",
       "\n",
       "                     source.url    ppsqm  \n",
       "0           http://www.mohv.se/  52328.8  \n",
       "1          http://www.notar.se/  65416.7  \n",
       "2      http://historiskahem.se/  75432.1  \n",
       "3          http://www.notar.se/  75233.6  \n",
       "4    http://www.maklarhuset.se/  82758.6  \n",
       "..                          ...      ...  \n",
       "153        http://www.notar.se/  56730.8  \n",
       "154        http://www.notar.se/  44900.0  \n",
       "155        http://www.notar.se/  63043.5  \n",
       "156        http://www.notar.se/  39285.7  \n",
       "157        http://www.notar.se/  43600.0  \n",
       "\n",
       "[158 rows x 28 columns]"
      ]
     },
     "execution_count": 5,
     "metadata": {},
     "output_type": "execute_result"
    }
   ],
   "source": [
    "new_apartment_df = apartment_df\n",
    "new_apartment_df[\"ppsqm\"] = ppsqm\n",
    "\n",
    "# Display the new dataframe\n",
    "new_apartment_df"
   ]
  },
  {
   "cell_type": "markdown",
   "id": "94c9cc5e-c238-4f8b-a4af-40fe76da3834",
   "metadata": {},
   "source": [
    "### 2. Top 5 most expensive apartments w.r.t ppsqm"
   ]
  },
  {
   "cell_type": "code",
   "execution_count": 6,
   "id": "ee00329a-af70-4507-ad6a-4e36610724e2",
   "metadata": {
    "scrolled": true
   },
   "outputs": [],
   "source": [
    "sort_ppsqm_df = new_apartment_df.sort_values(\"ppsqm\", ascending=False)"
   ]
  },
  {
   "cell_type": "markdown",
   "id": "fa233ac5-3b65-4ef8-b6a4-745c39a65530",
   "metadata": {},
   "source": [
    "To only show the top 5 most expensive apartments w.r.t `ppsqm`, we use `.head()`."
   ]
  },
  {
   "cell_type": "code",
   "execution_count": 7,
   "id": "322b1bc4-529b-43c7-b4fa-61b72644cc1b",
   "metadata": {},
   "outputs": [
    {
     "data": {
      "text/html": [
       "<div>\n",
       "<style scoped>\n",
       "    .dataframe tbody tr th:only-of-type {\n",
       "        vertical-align: middle;\n",
       "    }\n",
       "\n",
       "    .dataframe tbody tr th {\n",
       "        vertical-align: top;\n",
       "    }\n",
       "\n",
       "    .dataframe thead th {\n",
       "        text-align: right;\n",
       "    }\n",
       "</style>\n",
       "<table border=\"1\" class=\"dataframe\">\n",
       "  <thead>\n",
       "    <tr style=\"text-align: right;\">\n",
       "      <th></th>\n",
       "      <th>listPrice</th>\n",
       "      <th>rent</th>\n",
       "      <th>livingArea</th>\n",
       "      <th>rooms</th>\n",
       "      <th>published</th>\n",
       "      <th>constructionYear</th>\n",
       "      <th>objectType</th>\n",
       "      <th>booliId</th>\n",
       "      <th>soldDate</th>\n",
       "      <th>soldPrice</th>\n",
       "      <th>...</th>\n",
       "      <th>location.position.longitude</th>\n",
       "      <th>location.position.isApproximate</th>\n",
       "      <th>location.region.municipalityName</th>\n",
       "      <th>location.region.countyName</th>\n",
       "      <th>location.distance.ocean</th>\n",
       "      <th>source.name</th>\n",
       "      <th>source.id</th>\n",
       "      <th>source.type</th>\n",
       "      <th>source.url</th>\n",
       "      <th>ppsqm</th>\n",
       "    </tr>\n",
       "  </thead>\n",
       "  <tbody>\n",
       "    <tr>\n",
       "      <th>67</th>\n",
       "      <td>1595000</td>\n",
       "      <td>1464.0</td>\n",
       "      <td>24.0</td>\n",
       "      <td>1.0</td>\n",
       "      <td>2016-01-07 14:51:06</td>\n",
       "      <td>1935.0</td>\n",
       "      <td>Lägenhet</td>\n",
       "      <td>2018259</td>\n",
       "      <td>2016-01-21</td>\n",
       "      <td>2500000</td>\n",
       "      <td>...</td>\n",
       "      <td>18.055270</td>\n",
       "      <td>NaN</td>\n",
       "      <td>Stockholm</td>\n",
       "      <td>Stockholms län</td>\n",
       "      <td>161</td>\n",
       "      <td>Notar</td>\n",
       "      <td>1566</td>\n",
       "      <td>Broker</td>\n",
       "      <td>http://www.notar.se/</td>\n",
       "      <td>104166.7</td>\n",
       "    </tr>\n",
       "    <tr>\n",
       "      <th>50</th>\n",
       "      <td>1890000</td>\n",
       "      <td>1464.0</td>\n",
       "      <td>24.0</td>\n",
       "      <td>1.0</td>\n",
       "      <td>2016-06-11 08:55:51</td>\n",
       "      <td>1935.0</td>\n",
       "      <td>Lägenhet</td>\n",
       "      <td>2125576</td>\n",
       "      <td>2016-06-21</td>\n",
       "      <td>2450000</td>\n",
       "      <td>...</td>\n",
       "      <td>18.055270</td>\n",
       "      <td>NaN</td>\n",
       "      <td>Stockholm</td>\n",
       "      <td>Stockholms län</td>\n",
       "      <td>161</td>\n",
       "      <td>HusmanHagberg</td>\n",
       "      <td>1610</td>\n",
       "      <td>Broker</td>\n",
       "      <td>http://www.husmanhagberg.se/</td>\n",
       "      <td>102083.3</td>\n",
       "    </tr>\n",
       "    <tr>\n",
       "      <th>54</th>\n",
       "      <td>1795000</td>\n",
       "      <td>1374.0</td>\n",
       "      <td>23.0</td>\n",
       "      <td>1.0</td>\n",
       "      <td>2016-04-15 19:10:49</td>\n",
       "      <td>1935.0</td>\n",
       "      <td>Lägenhet</td>\n",
       "      <td>2078171</td>\n",
       "      <td>2016-04-28</td>\n",
       "      <td>2300000</td>\n",
       "      <td>...</td>\n",
       "      <td>18.055422</td>\n",
       "      <td>True</td>\n",
       "      <td>Stockholm</td>\n",
       "      <td>Stockholms län</td>\n",
       "      <td>135</td>\n",
       "      <td>Notar</td>\n",
       "      <td>1566</td>\n",
       "      <td>Broker</td>\n",
       "      <td>http://www.notar.se/</td>\n",
       "      <td>100000.0</td>\n",
       "    </tr>\n",
       "    <tr>\n",
       "      <th>34</th>\n",
       "      <td>1750000</td>\n",
       "      <td>1144.0</td>\n",
       "      <td>25.0</td>\n",
       "      <td>1.0</td>\n",
       "      <td>2017-05-18 16:20:57</td>\n",
       "      <td>1936.0</td>\n",
       "      <td>Lägenhet</td>\n",
       "      <td>2330886</td>\n",
       "      <td>2017-06-01</td>\n",
       "      <td>2210000</td>\n",
       "      <td>...</td>\n",
       "      <td>18.053880</td>\n",
       "      <td>NaN</td>\n",
       "      <td>Stockholm</td>\n",
       "      <td>Stockholms län</td>\n",
       "      <td>218</td>\n",
       "      <td>HusmanHagberg</td>\n",
       "      <td>1610</td>\n",
       "      <td>Broker</td>\n",
       "      <td>http://www.husmanhagberg.se/</td>\n",
       "      <td>88400.0</td>\n",
       "    </tr>\n",
       "    <tr>\n",
       "      <th>55</th>\n",
       "      <td>1895000</td>\n",
       "      <td>1522.0</td>\n",
       "      <td>26.9</td>\n",
       "      <td>1.0</td>\n",
       "      <td>2016-04-01 22:56:37</td>\n",
       "      <td>1968.0</td>\n",
       "      <td>Lägenhet</td>\n",
       "      <td>2067384</td>\n",
       "      <td>2016-04-19</td>\n",
       "      <td>2300000</td>\n",
       "      <td>...</td>\n",
       "      <td>18.058529</td>\n",
       "      <td>True</td>\n",
       "      <td>Stockholm</td>\n",
       "      <td>Stockholms län</td>\n",
       "      <td>298</td>\n",
       "      <td>Notar</td>\n",
       "      <td>1566</td>\n",
       "      <td>Broker</td>\n",
       "      <td>http://www.notar.se/</td>\n",
       "      <td>85501.9</td>\n",
       "    </tr>\n",
       "  </tbody>\n",
       "</table>\n",
       "<p>5 rows × 28 columns</p>\n",
       "</div>"
      ],
      "text/plain": [
       "    listPrice    rent  livingArea  rooms            published  \\\n",
       "67    1595000  1464.0        24.0    1.0  2016-01-07 14:51:06   \n",
       "50    1890000  1464.0        24.0    1.0  2016-06-11 08:55:51   \n",
       "54    1795000  1374.0        23.0    1.0  2016-04-15 19:10:49   \n",
       "34    1750000  1144.0        25.0    1.0  2017-05-18 16:20:57   \n",
       "55    1895000  1522.0        26.9    1.0  2016-04-01 22:56:37   \n",
       "\n",
       "    constructionYear objectType  booliId    soldDate  soldPrice  ...  \\\n",
       "67            1935.0   Lägenhet  2018259  2016-01-21    2500000  ...   \n",
       "50            1935.0   Lägenhet  2125576  2016-06-21    2450000  ...   \n",
       "54            1935.0   Lägenhet  2078171  2016-04-28    2300000  ...   \n",
       "34            1936.0   Lägenhet  2330886  2017-06-01    2210000  ...   \n",
       "55            1968.0   Lägenhet  2067384  2016-04-19    2300000  ...   \n",
       "\n",
       "   location.position.longitude location.position.isApproximate  \\\n",
       "67                   18.055270                             NaN   \n",
       "50                   18.055270                             NaN   \n",
       "54                   18.055422                            True   \n",
       "34                   18.053880                             NaN   \n",
       "55                   18.058529                            True   \n",
       "\n",
       "    location.region.municipalityName  location.region.countyName  \\\n",
       "67                         Stockholm              Stockholms län   \n",
       "50                         Stockholm              Stockholms län   \n",
       "54                         Stockholm              Stockholms län   \n",
       "34                         Stockholm              Stockholms län   \n",
       "55                         Stockholm              Stockholms län   \n",
       "\n",
       "    location.distance.ocean    source.name source.id  source.type  \\\n",
       "67                      161          Notar      1566       Broker   \n",
       "50                      161  HusmanHagberg      1610       Broker   \n",
       "54                      135          Notar      1566       Broker   \n",
       "34                      218  HusmanHagberg      1610       Broker   \n",
       "55                      298          Notar      1566       Broker   \n",
       "\n",
       "                      source.url     ppsqm  \n",
       "67          http://www.notar.se/  104166.7  \n",
       "50  http://www.husmanhagberg.se/  102083.3  \n",
       "54          http://www.notar.se/  100000.0  \n",
       "34  http://www.husmanhagberg.se/   88400.0  \n",
       "55          http://www.notar.se/   85501.9  \n",
       "\n",
       "[5 rows x 28 columns]"
      ]
     },
     "execution_count": 7,
     "metadata": {},
     "output_type": "execute_result"
    }
   ],
   "source": [
    "sort_ppsqm_df.head()"
   ]
  },
  {
   "cell_type": "markdown",
   "id": "75e07769-f9dc-4346-8e0a-9ade0acc1734",
   "metadata": {},
   "source": [
    "### 3. Average ppsqm in Ekhagen"
   ]
  },
  {
   "cell_type": "code",
   "execution_count": 8,
   "id": "9a3dacf4-d8f6-4581-869b-80ab097bc802",
   "metadata": {},
   "outputs": [
    {
     "name": "stdout",
     "output_type": "stream",
     "text": [
      "58759.0\n"
     ]
    }
   ],
   "source": [
    "average_ppsqm = new_apartment_df[\"ppsqm\"].mean()\n",
    "print(round(average_ppsqm, 0))"
   ]
  },
  {
   "cell_type": "markdown",
   "id": "bd326f62-abec-4c2d-912f-41da749db8ff",
   "metadata": {},
   "source": [
    "### 4. Interesting aspect of the data"
   ]
  },
  {
   "cell_type": "markdown",
   "id": "37177278-4a29-46f7-8cdb-ac9cfe528f1c",
   "metadata": {},
   "source": [
    "One aspect I found interesting about the data was how expensive some of the apartments were considering their living area. For example the top 5 most expensive apartments w.r.t `ppsqm` all had a living area less than 27 kvadratmeter (I assume that is the unit) but they all sold for more than 2.2 million SEK."
   ]
  },
  {
   "cell_type": "markdown",
   "id": "95024184-c28b-445b-b2e7-2b59c855a640",
   "metadata": {},
   "source": [
    "## The Swedish Election of 2018"
   ]
  },
  {
   "cell_type": "markdown",
   "id": "c483c246-fbb1-46e5-aef9-bcc07980b365",
   "metadata": {},
   "source": [
    "### Data"
   ]
  },
  {
   "cell_type": "code",
   "execution_count": 9,
   "id": "b328373d-b2cb-485d-8815-29ef81c2fe6c",
   "metadata": {
    "tags": []
   },
   "outputs": [],
   "source": [
    "election_df = pd.read_csv(\"https://raw.githubusercontent.com/su-mt4007/data/refs/heads/main/2018_R_per_kommun.csv\", sep=\";\").replace({',': '.'}, regex=True)"
   ]
  },
  {
   "cell_type": "markdown",
   "id": "6b2e64f2-7e3f-4b1d-b144-ba9404523fad",
   "metadata": {},
   "source": [
    "Here we used `sep=\";\"` and `.replace()` to get the data in the correct format. "
   ]
  },
  {
   "cell_type": "markdown",
   "id": "dac55b99-0ac5-40c0-8d44-e17647554ed4",
   "metadata": {},
   "source": [
    "### 1. Calculate the total number of legitimate votes in Stockholm during the election"
   ]
  },
  {
   "cell_type": "markdown",
   "id": "ac0ca17f-d8b9-48f5-ac24-b390c25383ef",
   "metadata": {},
   "source": [
    "We first create a new dataframe with only the municipalitys from Stockholms län."
   ]
  },
  {
   "cell_type": "code",
   "execution_count": 10,
   "id": "ad95d77a-542e-42b1-8bf5-8095e5bbd93d",
   "metadata": {
    "scrolled": true
   },
   "outputs": [],
   "source": [
    "stockholm_df = election_df[election_df[\"LÄNSNAMN\"] == \"Stockholms län\"]"
   ]
  },
  {
   "cell_type": "markdown",
   "id": "54031dbb-569c-4658-a592-5cc76a45c582",
   "metadata": {},
   "source": [
    "Then we sum up all the values in the column `RÖSTER GILTIGA`."
   ]
  },
  {
   "cell_type": "code",
   "execution_count": 11,
   "id": "2fad915d-c632-4909-8ee5-2c9ebeae2e7e",
   "metadata": {
    "tags": []
   },
   "outputs": [
    {
     "data": {
      "text/plain": [
       "1426237"
      ]
     },
     "execution_count": 11,
     "metadata": {},
     "output_type": "execute_result"
    }
   ],
   "source": [
    "tot_legitimate_votes_stockholm = sum(stockholm_df[\"RÖSTER GILTIGA\"])\n",
    "tot_legitimate_votes_stockholm"
   ]
  },
  {
   "cell_type": "markdown",
   "id": "1dfa0df8-9541-4d14-ab09-ed9910457273",
   "metadata": {
    "tags": []
   },
   "source": [
    "### 2. In which municipality did the social democratic party garner the highest voting percentage?"
   ]
  },
  {
   "cell_type": "markdown",
   "id": "2807c1ed-4de1-4123-8b30-298505620b70",
   "metadata": {},
   "source": [
    "We first need to convert the elements in column `S` to numerical values (otherwise the elements will be compared lexicographically and not numerically)."
   ]
  },
  {
   "cell_type": "code",
   "execution_count": 12,
   "id": "7cb48335-27b1-4ab0-8453-12b47bf39cce",
   "metadata": {
    "tags": []
   },
   "outputs": [],
   "source": [
    "election_df[\"S\"] = pd.to_numeric(election_df[\"S\"])"
   ]
  },
  {
   "cell_type": "markdown",
   "id": "15c262e2-785e-40ab-9424-fcdf76873dab",
   "metadata": {},
   "source": [
    "Then we sort the dataframe w.r.t the column `S` and use `.head(1)` to show the municipality in which the social democratic party garnered the highest voting percentage. "
   ]
  },
  {
   "cell_type": "code",
   "execution_count": 13,
   "id": "c67203a9-335b-4f89-b3ff-d86aa390d2df",
   "metadata": {
    "tags": []
   },
   "outputs": [
    {
     "data": {
      "text/html": [
       "<div>\n",
       "<style scoped>\n",
       "    .dataframe tbody tr th:only-of-type {\n",
       "        vertical-align: middle;\n",
       "    }\n",
       "\n",
       "    .dataframe tbody tr th {\n",
       "        vertical-align: top;\n",
       "    }\n",
       "\n",
       "    .dataframe thead th {\n",
       "        text-align: right;\n",
       "    }\n",
       "</style>\n",
       "<table border=\"1\" class=\"dataframe\">\n",
       "  <thead>\n",
       "    <tr style=\"text-align: right;\">\n",
       "      <th></th>\n",
       "      <th>LÄNSKOD</th>\n",
       "      <th>KOMMUNKOD</th>\n",
       "      <th>LÄNSNAMN</th>\n",
       "      <th>KOMMUNNAMN</th>\n",
       "      <th>M</th>\n",
       "      <th>C</th>\n",
       "      <th>L</th>\n",
       "      <th>KD</th>\n",
       "      <th>S</th>\n",
       "      <th>V</th>\n",
       "      <th>...</th>\n",
       "      <th>TRP</th>\n",
       "      <th>VL-S</th>\n",
       "      <th>ÖVR</th>\n",
       "      <th>OGEJ</th>\n",
       "      <th>BLANK</th>\n",
       "      <th>OG</th>\n",
       "      <th>RÖSTER GILTIGA</th>\n",
       "      <th>RÖSTANDE</th>\n",
       "      <th>RÖSTBERÄTTIGADE</th>\n",
       "      <th>VALDELTAGANDE</th>\n",
       "    </tr>\n",
       "  </thead>\n",
       "  <tbody>\n",
       "    <tr>\n",
       "      <th>188</th>\n",
       "      <td>17</td>\n",
       "      <td>62</td>\n",
       "      <td>Värmlands län</td>\n",
       "      <td>Munkfors</td>\n",
       "      <td>8.33</td>\n",
       "      <td>8.12</td>\n",
       "      <td>2.91</td>\n",
       "      <td>3.93</td>\n",
       "      <td>52.18</td>\n",
       "      <td>6.11</td>\n",
       "      <td>...</td>\n",
       "      <td>NaN</td>\n",
       "      <td>NaN</td>\n",
       "      <td>NaN</td>\n",
       "      <td>NaN</td>\n",
       "      <td>1.02</td>\n",
       "      <td>NaN</td>\n",
       "      <td>2340</td>\n",
       "      <td>2364</td>\n",
       "      <td>2777</td>\n",
       "      <td>85.13</td>\n",
       "    </tr>\n",
       "  </tbody>\n",
       "</table>\n",
       "<p>1 rows × 45 columns</p>\n",
       "</div>"
      ],
      "text/plain": [
       "     LÄNSKOD  KOMMUNKOD       LÄNSNAMN KOMMUNNAMN     M     C     L    KD  \\\n",
       "188       17         62  Värmlands län   Munkfors  8.33  8.12  2.91  3.93   \n",
       "\n",
       "         S     V  ...  TRP VL-S  ÖVR OGEJ BLANK   OG RÖSTER GILTIGA RÖSTANDE  \\\n",
       "188  52.18  6.11  ...  NaN  NaN  NaN  NaN  1.02  NaN           2340     2364   \n",
       "\n",
       "    RÖSTBERÄTTIGADE VALDELTAGANDE  \n",
       "188            2777         85.13  \n",
       "\n",
       "[1 rows x 45 columns]"
      ]
     },
     "execution_count": 13,
     "metadata": {},
     "output_type": "execute_result"
    }
   ],
   "source": [
    "election_df.sort_values(\"S\", ascending=False).head(1)"
   ]
  },
  {
   "cell_type": "markdown",
   "id": "7870a800-d962-455a-b529-eac2d642a199",
   "metadata": {},
   "source": [
    "We see that Munkfors is the municipality in which the social democratic party garnered the highest voting percentage. "
   ]
  },
  {
   "cell_type": "markdown",
   "id": "499c92b4-0161-4a87-82de-aca04c62e151",
   "metadata": {},
   "source": [
    "### 3. Rank the (3) municipialities with highest participation"
   ]
  },
  {
   "cell_type": "markdown",
   "id": "96be9e0b-9f6a-45eb-9eee-df9468d756d5",
   "metadata": {},
   "source": [
    "We first sort the dataframe w.r.t `VALDELTAGANDE` and then use `.head(3)` to show the top 3 rows. We create a new dataframe with these three rows and only show the columns `KOMMUNNAMN` and `VALDELTAGANDE` so that we can more easily observe the neccesary data."
   ]
  },
  {
   "cell_type": "code",
   "execution_count": 14,
   "id": "d2641dd3-6ce2-4efa-927e-2517c7b8d5f9",
   "metadata": {
    "tags": []
   },
   "outputs": [
    {
     "data": {
      "text/html": [
       "<div>\n",
       "<style scoped>\n",
       "    .dataframe tbody tr th:only-of-type {\n",
       "        vertical-align: middle;\n",
       "    }\n",
       "\n",
       "    .dataframe tbody tr th {\n",
       "        vertical-align: top;\n",
       "    }\n",
       "\n",
       "    .dataframe thead th {\n",
       "        text-align: right;\n",
       "    }\n",
       "</style>\n",
       "<table border=\"1\" class=\"dataframe\">\n",
       "  <thead>\n",
       "    <tr style=\"text-align: right;\">\n",
       "      <th></th>\n",
       "      <th>KOMMUNNAMN</th>\n",
       "      <th>VALDELTAGANDE</th>\n",
       "    </tr>\n",
       "  </thead>\n",
       "  <tbody>\n",
       "    <tr>\n",
       "      <th>103</th>\n",
       "      <td>Lomma</td>\n",
       "      <td>93.86</td>\n",
       "    </tr>\n",
       "    <tr>\n",
       "      <th>59</th>\n",
       "      <td>Habo</td>\n",
       "      <td>93.35</td>\n",
       "    </tr>\n",
       "    <tr>\n",
       "      <th>98</th>\n",
       "      <td>Vellinge</td>\n",
       "      <td>93.13</td>\n",
       "    </tr>\n",
       "  </tbody>\n",
       "</table>\n",
       "</div>"
      ],
      "text/plain": [
       "    KOMMUNNAMN VALDELTAGANDE\n",
       "103      Lomma         93.86\n",
       "59        Habo         93.35\n",
       "98    Vellinge         93.13"
      ]
     },
     "execution_count": 14,
     "metadata": {},
     "output_type": "execute_result"
    }
   ],
   "source": [
    "highest_participation_df = election_df.sort_values(\"VALDELTAGANDE\", ascending=False).head(3)\n",
    "highest_participation_df[[\"KOMMUNNAMN\", \"VALDELTAGANDE\"]]"
   ]
  },
  {
   "cell_type": "markdown",
   "id": "61665715-f178-444f-a6fa-ccb28ba17363",
   "metadata": {},
   "source": [
    "## Predicting Strokes"
   ]
  },
  {
   "cell_type": "markdown",
   "id": "5a8754ca-add5-4270-8706-10c654505b05",
   "metadata": {
    "tags": []
   },
   "source": [
    "### Data"
   ]
  },
  {
   "cell_type": "code",
   "execution_count": 15,
   "id": "76fefb6a-197e-4945-b57a-2f3e34b9d030",
   "metadata": {
    "tags": []
   },
   "outputs": [],
   "source": [
    "stroke_df = pd.read_csv(\"https://raw.githubusercontent.com/su-mt4007/data/refs/heads/main/stroke-data.csv\")"
   ]
  },
  {
   "cell_type": "markdown",
   "id": "d190ef5d-5abd-4534-bc16-447251ffdf4f",
   "metadata": {
    "tags": []
   },
   "source": [
    "### Task"
   ]
  },
  {
   "cell_type": "markdown",
   "id": "330470f0-0cd1-4244-804b-5ad913300ee5",
   "metadata": {},
   "source": [
    "I choose to investigate if age had anything to do with a person having a stroke. I therefore plotted the variable `age` against the variable `stroke`, where `stroke` is a binary variable (1/0). "
   ]
  },
  {
   "cell_type": "code",
   "execution_count": 16,
   "id": "0c440934-1c2b-4ba7-8851-a60d85c9e9a1",
   "metadata": {
    "tags": []
   },
   "outputs": [
    {
     "data": {
      "text/plain": [
       "Text(0, 0.5, 'Stroke')"
      ]
     },
     "execution_count": 16,
     "metadata": {},
     "output_type": "execute_result"
    },
    {
     "data": {
      "image/png": "[encoded data removed]",
      "text/plain": [
       "<Figure size 640x480 with 1 Axes>"
      ]
     },
     "metadata": {},
     "output_type": "display_data"
    }
   ],
   "source": [
    "plt.scatter(stroke_df[\"age\"], stroke_df[\"stroke\"])\n",
    "\n",
    "# Add title and labels\n",
    "plt.title(\"Age vs stroke\")\n",
    "plt.xlabel(\"Age\")\n",
    "plt.ylabel(\"Stroke\")"
   ]
  },
  {
   "cell_type": "markdown",
   "id": "fde9d27b-0215-402d-a99a-5aacf5180f99",
   "metadata": {},
   "source": [
    "From this plot we see that people over the age of 40 are more likely to have a stroke which is a reasonable conclusion. Furthermore, we can use `len` to obtain how many people are under the age of 40 to see if there is enough people to justify our conclusion. We get:"
   ]
  },
  {
   "cell_type": "code",
   "execution_count": 17,
   "id": "9ffa330f-cedb-484a-a442-67cfcf9d7483",
   "metadata": {
    "tags": []
   },
   "outputs": [
    {
     "data": {
      "text/plain": [
       "2170"
      ]
     },
     "execution_count": 17,
     "metadata": {},
     "output_type": "execute_result"
    }
   ],
   "source": [
    "len(stroke_df[stroke_df[\"age\"] < 40])"
   ]
  },
  {
   "cell_type": "markdown",
   "id": "9c54bd07-2aea-400c-b212-5edb802bae68",
   "metadata": {},
   "source": [
    "Since there is 2170 people under the age of 40, we conclude that our conclusion is valid. Note also that there is a possibility that only people of the exact same age (under the age of 40) have had a stroke, i.e. the dots in the scatterplot might be perfectly inside of each other. However, this is highly unlikely."
   ]
  }
 ],
 "metadata": {
  "kernelspec": {
   "display_name": "Python 3 (ipykernel)",
   "language": "python",
   "name": "python3"
  },
  "language_info": {
   "codemirror_mode": {
    "name": "ipython",
    "version": 3
   },
   "file_extension": ".py",
   "mimetype": "text/x-python",
   "name": "python",
   "nbconvert_exporter": "python",
   "pygments_lexer": "ipython3",
   "version": "3.11.5"
  }
 },
 "nbformat": 4,
 "nbformat_minor": 5
}
