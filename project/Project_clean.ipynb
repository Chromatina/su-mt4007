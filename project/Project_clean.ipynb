{
 "cells": [
  {
   "cell_type": "markdown",
   "id": "a64dde54-ccfd-4765-8388-67e3a76de39c",
   "metadata": {
    "tags": []
   },
   "source": [
    "# Analyzing Roulette Betting Strategies: A Simulation-Based Approach to Martingale, Fibonacci, and D'Alembert Strategies"
   ]
  },
  {
   "cell_type": "markdown",
   "id": "e15bf130-4d37-4732-9066-9c8429cb8a3d",
   "metadata": {
    "tags": []
   },
   "source": [
    "## Introduction"
   ]
  },
  {
   "cell_type": "markdown",
   "id": "c01c018e-3f88-4c5e-85c9-74e4f5146e55",
   "metadata": {
    "tags": []
   },
   "source": [
    "Have you ever wondered why roulette is one of the most iconic casino games in the western hemisphere? While luck and chance undeniably play a major role in determining success, is that really the whole story? What if players could strategically influence their winnings by adjusting how much they bet each round and deciding when to make changes? Perhaps roulette isn't purely a game of chance after all. In this blog post we try to answer these questions."
   ]
  },
  {
   "cell_type": "markdown",
   "id": "e7040df7-4d1d-44be-a241-f4d6600e207c",
   "metadata": {
    "tags": []
   },
   "source": [
    "## Introduction to Roulette and Three Betting Strategies"
   ]
  },
  {
   "cell_type": "markdown",
   "id": "16ab7e29-f8cf-42f7-b663-531d8f20db94",
   "metadata": {
    "tags": []
   },
   "source": [
    "Before diving into the hypothesis this blog post aims to address, let’s first explore the basics of roulette and three popular betting strategies that players often use to influence their outcomes. Understanding these fundamentals will provide the necessary context for our analysis."
   ]
  },
  {
   "cell_type": "markdown",
   "id": "ba103747-0b31-4ca7-a0a2-3c037dc4e2a3",
   "metadata": {
    "tags": []
   },
   "source": [
    "### The Basics of Roulette"
   ]
  },
  {
   "cell_type": "markdown",
   "id": "489e127c-b677-49c5-90fa-21a5ca17d234",
   "metadata": {},
   "source": [
    "Roulette is a game centered around a spinning wheel divided into numbered pockets, typically ranging from 0 to 36. This is the setup in European roulette, which will be the focus of this post. In contrast, American roulette includes an additional green pocket labeled 00, which slightly alters the odds."
   ]
  },
  {
   "cell_type": "markdown",
   "id": "52a012a7-9f25-4e23-b1fc-c447ff6c680f",
   "metadata": {},
   "source": [
    "#### The Setup"
   ]
  },
  {
   "cell_type": "markdown",
   "id": "67f40167-b660-4a2b-b7c5-f386ee5dfbe9",
   "metadata": {},
   "source": [
    "Players place bets on a layout of numbers and options on the roulette table. These bets range from wagering on specific numbers to broader categories, such as odd/even, red/black, or groups of numbers. For simplicity, we will focus on odd/even and red/black bets, as they are straightforward and offer a payout of 1:1."
   ]
  },
  {
   "cell_type": "markdown",
   "id": "5e9ad943-bab3-44e4-a553-0fcb81982b57",
   "metadata": {},
   "source": [
    "#### The Spin"
   ]
  },
  {
   "cell_type": "markdown",
   "id": "3f88b18f-32be-4e51-bb0b-bc490d38bbfb",
   "metadata": {},
   "source": [
    "Once bets are placed, the dealer spins the wheel in one direction and rolls a small ball in the opposite direction. The ball eventually lands in one of the numbered pockets."
   ]
  },
  {
   "cell_type": "markdown",
   "id": "f03ce077-a09c-400c-8ef3-bbeccb825ef4",
   "metadata": {},
   "source": [
    "#### The Outcome"
   ]
  },
  {
   "cell_type": "markdown",
   "id": "123d8ed2-6de8-4959-b5ae-371b86c20d0e",
   "metadata": {},
   "source": [
    "The pocket where the ball lands determines the winning bets. Players who bet on the correct number, color, or category collect winnings based on a payout table, while others lose their bets."
   ]
  },
  {
   "cell_type": "markdown",
   "id": "d7d7c858-a673-488b-bd15-21f467736761",
   "metadata": {
    "tags": []
   },
   "source": [
    "### Betting Strategies: Martingale, Fibonacci, and D'Alembert"
   ]
  },
  {
   "cell_type": "markdown",
   "id": "754857d5-1403-4e8f-bf97-88fb148dcea2",
   "metadata": {},
   "source": [
    "Now that we’ve covered the fundamentals of roulette, let’s delve into three popular betting strategies that players might use to increase their winnings: Martingale, Fibonacci, and D’Alembert."
   ]
  },
  {
   "cell_type": "markdown",
   "id": "8704bdcc-08b2-45ea-8c42-7bd4bc25e91d",
   "metadata": {},
   "source": [
    "#### Martingale Strategy"
   ]
  },
  {
   "cell_type": "markdown",
   "id": "d1b8963c-a928-477f-9c0d-0cccccecde89",
   "metadata": {},
   "source": [
    "Start with a base bet. After a loss, double your next bet. After a win, return to your original base bet."
   ]
  },
  {
   "cell_type": "markdown",
   "id": "c1b944f7-b5af-41ca-bc7d-9d02f5be71c3",
   "metadata": {},
   "source": [
    "#### Fibonacci Strategy"
   ]
  },
  {
   "cell_type": "markdown",
   "id": "9fef9b5a-b6bc-4624-96f6-ef8732e88117",
   "metadata": {},
   "source": [
    "This method is based on the Fibonacci sequence, where each number is the sum of the two preceding numbers (1, 1, 2, 3, 5, 8, …). Start with the first number in the sequence and bet an amount corresponding to that number (e.g., `$1`, `$10`, `$100`). After a loss, move to the next number in the sequence for your next bet. After a win, move back two steps in the sequence (or reset to the beginning if you are near the start)."
   ]
  },
  {
   "cell_type": "markdown",
   "id": "0ba93a23-6076-4d9c-b60e-a83e07bb92d0",
   "metadata": {},
   "source": [
    "#### D’Alembert Strategy"
   ]
  },
  {
   "cell_type": "markdown",
   "id": "11264b94-a103-409b-ad86-e5973f8d5484",
   "metadata": {},
   "source": [
    "Start with a base unit (e.g., `$10`). After a loss, increase your next bet by one unit. After a win, decrease your bet by one unit, ensuring you never bet below the base unit."
   ]
  },
  {
   "cell_type": "markdown",
   "id": "3bb09e5e-7372-492b-aee6-2564d9cf3035",
   "metadata": {},
   "source": [
    "## Hypothesis"
   ]
  },
  {
   "cell_type": "markdown",
   "id": "f36dcdba-5e62-4813-b39b-ea45758f2eb6",
   "metadata": {},
   "source": [
    "With the basics out-of-the-way, we can now pose the central hypothesis of this blog post:\n",
    "\n",
    "Can betting strategies such as Martingale, Fibonacci, or D’Alembert overcome the house edge in roulette over a long series of bets?"
   ]
  },
  {
   "cell_type": "markdown",
   "id": "8aca7e7f-be4c-47c1-9463-5631bf514d95",
   "metadata": {
    "tags": []
   },
   "source": [
    "## Data"
   ]
  },
  {
   "cell_type": "markdown",
   "id": "226acd95-306c-4a56-b4a9-b34ef89c16b5",
   "metadata": {},
   "source": [
    "To investigate our hypothesis, we will utilize simulated roulette data from https://www.kaggle.com/datasets/flynn28/simulated-roulette-data. Specifically, we will analyze datasets simulating 10,000 and 100,000 rounds of roulette, processed using the Python library `pandas`. Simulated data is used because casinos typically do not make real-world roulette data publicly available, making simulations an invaluable resource for exploring patterns and testing strategies."
   ]
  },
  {
   "cell_type": "markdown",
   "id": "ea96c64c-5673-404f-9ff1-a0adf0417773",
   "metadata": {},
   "source": [
    "## Setup"
   ]
  },
  {
   "cell_type": "markdown",
   "id": "5489d4fb-23bd-47d7-98ac-25bead6fc4f9",
   "metadata": {},
   "source": [
    "We will begin by simulating 16 different games of roulette, covering four betting strategies: Martingale, Fibonacci, D'Alembert, and a baseline approach we’ll refer to as *no strategy*. For each strategy, we simulate four games where the player bets on red, black, even and odd. In all cases, the player begins with a base bet of `$10`, adapting subsequent bets according to the chosen strategy. For the *no strategy* baseline, the player bets a random amount between `$5` and `$20` each round. Additionally, no limit is imposed on the player’s total capital during these simulations."
   ]
  },
  {
   "cell_type": "markdown",
   "id": "3cdf0559-c7ea-45fa-9895-658f54532634",
   "metadata": {
    "tags": []
   },
   "source": [
    "## Approach and Analysis"
   ]
  },
  {
   "cell_type": "markdown",
   "id": "75d11e0a-1019-41c3-b5a3-8b078d50f606",
   "metadata": {},
   "source": [
    "To analyze the performance of different betting strategies, we create four functions: `no_strategy()`, `martingale_strategy()`, `fibonacci_strategy()`, and `d_alembert_strategy()`. Each function simulates its respective betting approach. Using these functions in conjunction with `plot_strategies_2x2()`, we visualize the net profit achieved by each strategy over 10,000 simulated rounds of roulette. The resulting plots are shown below."
   ]
  },
  {
   "cell_type": "markdown",
   "id": "f440c360-c099-47c0-95f9-8d1cffd7a3f9",
   "metadata": {},
   "source": [
    "Straight away we notice a pattern in these plots. The results for the *no strategy* and D'Alembert approaches share similarities: both show jagged, fluctuating lines with a noticeable downward trend. In contrast, the plots for the Martingale and Fibonacci strategies show a steady but slow upward trajectory. To determine if these trends persist over a larger dataset, we now analyze the results using the simulated data from 100,000 rounds of roulette."
   ]
  },
  {
   "cell_type": "markdown",
   "id": "85f6bcd2-0e1c-4424-9e20-94e4c10f2ef9",
   "metadata": {},
   "source": [
    "The plots confirm that the observed trends are consistent. Across simulations of both 10,000 and 100,000 rounds of roulette, the *no strategy* and D'Alembert approaches consistently result in losses.\n",
    "\n",
    "Up to this point, we have assumed no limits on the amount a player can bet per round. However, this is unrealistic, as casinos typically impose table limits to cap bets. To reflect real-life conditions, we will continue our analysis of the Martingale and Fibonacci strategies utilizing table limits. These strategies show an upward trend, unlike the *no strategy* and D'Alembert strategies, which show a clear downward trajectory. Using table limits on these two strategies would only further constrain them, making them irrelevant to our analysis.\n",
    "\n",
    "The table limits used in this analysis were scraped using the selenium package from online roulette games on https://www.livedealer.org/live-casino-games/table-bet-limits/ and https://roulette77.us/blog/explanation-of-betting-limits. From the scraped data, we derived the following table limits (min, max and mean of all the scraped table limits): `$500`, `$75,000` and `$18,000` (rounded down to the nearest thousand). These values form the basis of our new analysis.\n",
    "\n",
    "To incorporate these constraints, we created three new functions: `martingale_strategy_with_table_limits()`, `fibonacci_strategy_with_table_limits()`, and `plot_strategies_2x4()`. The resulting plots are presented below."
   ]
  },
  {
   "cell_type": "markdown",
   "id": "55829a27-2a10-4863-a4f9-10a263f5152f",
   "metadata": {},
   "source": [
    "From these plots, we observe that approximately one-third of the lines end above the starting balance after 10,000 rounds. To investigate whether this pattern holds over longer durations, we generate similar plots using data from 100,000 rounds."
   ]
  },
  {
   "cell_type": "markdown",
   "id": "786176d0-858d-428b-b20b-80718b6d0146",
   "metadata": {},
   "source": [
    "From these plots, we observe that only one line-the orange one in the second plot on the first row-ends above the starting balance after 100,000 rounds. This suggests that the longer the game continues, the more prominent the house edge becomes. Based on our findings thus far in this blog post, we can finally draw our conclusion."
   ]
  },
  {
   "cell_type": "markdown",
   "id": "57d15485-c3a7-4b91-bde9-6430042365a0",
   "metadata": {},
   "source": [
    "## Result"
   ]
  },
  {
   "cell_type": "markdown",
   "id": "f758ad64-b294-4145-a069-3f429f5f895a",
   "metadata": {},
   "source": [
    "The result from our analysis suggests that, over time, the casino will always win, although it might take a very long time. In reality, most players won’t play 100,000 rounds in one sitting, so strategies like Martingale and Fibonacci could potentially yield short-term gains. However, due to the presence of the green 0, which gives the house its advantage, the house will ultimately win in the long run. To answer our hypothesis: no, you cannot beat the house edge in roulette over an extended series of bets using betting strategies."
   ]
  },
  {
   "cell_type": "markdown",
   "id": "d703b5ab-a8ba-4f16-bc57-8a915ae101da",
   "metadata": {},
   "source": [
    "## Discussion"
   ]
  },
  {
   "cell_type": "markdown",
   "id": "f48767e4-9e8c-4859-be57-f7f3adb8811d",
   "metadata": {},
   "source": [
    "Throughout this blog post, we have relied on simulated roulette data rather than real-life data. While this may be seen as a limitation, it’s important to note that roulette is primarily a game of chance and randomness, so the use of simulated data doesn't significantly change the conclusions drawn from our analysis.\n",
    "\n",
    "As a final note, since roulette is fundamentally a game of chance, no betting strategy can influence the probability of where the ball will land. While strategies such as Martingale and Fibonacci may offer short-term gains, they come with no guarantees and cannot overcome the house edge in the long run. Ultimately, roulette should be played with the understanding that it's a form of entertainment, not a surefire way to make money."
   ]
  },
  {
   "cell_type": "markdown",
   "id": "e45826a8-32f1-4092-a21d-e4c53d94ac8c",
   "metadata": {},
   "source": [
    "- Important: The measurement is the amount of money the player won\n",
    "- Budget: We only care about how much profit the player made after 10,000 rounds (it can of course be negative profit)\n",
    "- Payout: 1 to 1 \n",
    "- 10,000 Rounds\n",
    "  - No strategy\n",
    "    - Amount: Random amount $5-$20\n",
    "  - Martingale\n",
    "    - Amount: From strategy\n",
    "  - Fibonacci\n",
    "    - Amount: From strategy\n",
    "  - D'Alembert\n",
    "    - Amount: From strategy\n",
    "    \n",
    "TITTA HUR JAG SKA GÖRA MED ATT IMPORTERA OCH INSTALLERA LIBRARYS (KANSKE MÅSTE SKRIVA pip install ...)\n",
    "\n",
    "TITTA WORD COUNT\n",
    "\n",
    "VART SKA ALL KOD VARA, I VILKEN ORDNING OSV"
   ]
  }
 ],
 "metadata": {
  "kernelspec": {
   "display_name": "Python 3 (ipykernel)",
   "language": "python",
   "name": "python3"
  },
  "language_info": {
   "codemirror_mode": {
    "name": "ipython",
    "version": 3
   },
   "file_extension": ".py",
   "mimetype": "text/x-python",
   "name": "python",
   "nbconvert_exporter": "python",
   "pygments_lexer": "ipython3",
   "version": "3.11.5"
  }
 },
 "nbformat": 4,
 "nbformat_minor": 5
}
