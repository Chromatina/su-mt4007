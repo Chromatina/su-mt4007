{
 "cells": [
  {
   "cell_type": "markdown",
   "id": "a64dde54-ccfd-4765-8388-67e3a76de39c",
   "metadata": {
    "tags": []
   },
   "source": [
    "# Analyzing Roulette Betting Strategies: A Simulation-Based Approach to Martingale, Fibonacci, and D'Alembert Strategies"
   ]
  },
  {
   "cell_type": "code",
   "execution_count": null,
   "id": "18cf5bbc-df12-4c9a-a985-61947bbc85bb",
   "metadata": {
    "tags": []
   },
   "outputs": [],
   "source": [
    "!pip install nbconvert"
   ]
  },
  {
   "cell_type": "code",
   "execution_count": null,
   "id": "1dc908ff-ac48-4592-a33d-ffe35bcbcd0b",
   "metadata": {
    "hide_input": true,
    "tags": [
     "hide-input"
    ]
   },
   "outputs": [],
   "source": [
    "import Project_functions\n",
    "import pandas as pd\n",
    "import requests\n",
    "from bs4 import BeautifulSoup\n",
    "from selenium import webdriver\n",
    "import time\n",
    "import statistics"
   ]
  },
  {
   "cell_type": "markdown",
   "id": "e15bf130-4d37-4732-9066-9c8429cb8a3d",
   "metadata": {
    "tags": []
   },
   "source": [
    "## Introduction"
   ]
  },
  {
   "cell_type": "markdown",
   "id": "c01c018e-3f88-4c5e-85c9-74e4f5146e55",
   "metadata": {
    "tags": []
   },
   "source": [
    "Have you ever wondered why roulette is one of the most iconic casino games in the western hemisphere? While luck and chance undeniably play a major role in determining success, is that really the whole story? What if players could strategically influence their winnings by adjusting how much they bet each round and deciding when to make changes? Perhaps roulette isn't purely a game of chance after all. In this blog post we try to answer these questions."
   ]
  },
  {
   "cell_type": "markdown",
   "id": "e7040df7-4d1d-44be-a241-f4d6600e207c",
   "metadata": {
    "tags": []
   },
   "source": [
    "## Introduction to Roulette and Three Betting Strategies"
   ]
  },
  {
   "cell_type": "markdown",
   "id": "16ab7e29-f8cf-42f7-b663-531d8f20db94",
   "metadata": {
    "tags": []
   },
   "source": [
    "Before diving into the hypothesis this blog post aims to address, let’s first explore the basics of roulette and three popular betting strategies that players often use to influence their outcomes. Understanding these fundamentals will provide the necessary context for our analysis."
   ]
  },
  {
   "cell_type": "markdown",
   "id": "ba103747-0b31-4ca7-a0a2-3c037dc4e2a3",
   "metadata": {
    "tags": []
   },
   "source": [
    "### The Basics of Roulette"
   ]
  },
  {
   "cell_type": "markdown",
   "id": "489e127c-b677-49c5-90fa-21a5ca17d234",
   "metadata": {},
   "source": [
    "Roulette is a game centered around a spinning wheel divided into numbered pockets, typically ranging from 0 to 36. This is the setup in European roulette, which will be the focus of this post. In contrast, American roulette includes an additional green pocket labeled 00, which slightly alters the odds."
   ]
  },
  {
   "cell_type": "markdown",
   "id": "52a012a7-9f25-4e23-b1fc-c447ff6c680f",
   "metadata": {},
   "source": [
    "#### The Setup"
   ]
  },
  {
   "cell_type": "markdown",
   "id": "67f40167-b660-4a2b-b7c5-f386ee5dfbe9",
   "metadata": {},
   "source": [
    "Players place bets on a layout of numbers and options on the roulette table. These bets range from wagering on specific numbers to broader categories, such as odd/even, red/black, or groups of numbers. For simplicity, we will focus on odd/even and red/black bets, as they are straightforward and offer a payout of 1:1."
   ]
  },
  {
   "cell_type": "markdown",
   "id": "5e9ad943-bab3-44e4-a553-0fcb81982b57",
   "metadata": {},
   "source": [
    "#### The Spin"
   ]
  },
  {
   "cell_type": "markdown",
   "id": "3f88b18f-32be-4e51-bb0b-bc490d38bbfb",
   "metadata": {},
   "source": [
    "Once bets are placed, the dealer spins the wheel in one direction and rolls a small ball in the opposite direction. The ball eventually lands in one of the numbered pockets."
   ]
  },
  {
   "cell_type": "markdown",
   "id": "f03ce077-a09c-400c-8ef3-bbeccb825ef4",
   "metadata": {},
   "source": [
    "#### The Outcome"
   ]
  },
  {
   "cell_type": "markdown",
   "id": "123d8ed2-6de8-4959-b5ae-371b86c20d0e",
   "metadata": {},
   "source": [
    "The pocket where the ball lands determines the winning bets. Players who bet on the correct number, color, or category collect winnings based on a payout table, while others lose their bets."
   ]
  },
  {
   "cell_type": "markdown",
   "id": "d7d7c858-a673-488b-bd15-21f467736761",
   "metadata": {
    "tags": []
   },
   "source": [
    "### Betting Strategies: Martingale, Fibonacci, and D'Alembert"
   ]
  },
  {
   "cell_type": "markdown",
   "id": "754857d5-1403-4e8f-bf97-88fb148dcea2",
   "metadata": {},
   "source": [
    "Now that we’ve covered the fundamentals of roulette, let’s delve into three popular betting strategies that players might use to increase their winnings: Martingale, Fibonacci, and D’Alembert."
   ]
  },
  {
   "cell_type": "markdown",
   "id": "8704bdcc-08b2-45ea-8c42-7bd4bc25e91d",
   "metadata": {},
   "source": [
    "#### Martingale Strategy"
   ]
  },
  {
   "cell_type": "markdown",
   "id": "d1b8963c-a928-477f-9c0d-0cccccecde89",
   "metadata": {},
   "source": [
    "Start with a base bet. After a loss, double your next bet. After a win, return to your original base bet."
   ]
  },
  {
   "cell_type": "markdown",
   "id": "c1b944f7-b5af-41ca-bc7d-9d02f5be71c3",
   "metadata": {},
   "source": [
    "#### Fibonacci Strategy"
   ]
  },
  {
   "cell_type": "markdown",
   "id": "9fef9b5a-b6bc-4624-96f6-ef8732e88117",
   "metadata": {},
   "source": [
    "This method is based on the Fibonacci sequence, where each number is the sum of the two preceding numbers (1, 1, 2, 3, 5, 8, …). Start with the first number in the sequence and bet an amount corresponding to that number (e.g., `$1`, `$10`, `$100`). After a loss, move to the next number in the sequence for your next bet. After a win, move back two steps in the sequence (or reset to the beginning if you are near the start)."
   ]
  },
  {
   "cell_type": "markdown",
   "id": "0ba93a23-6076-4d9c-b60e-a83e07bb92d0",
   "metadata": {},
   "source": [
    "#### D’Alembert Strategy"
   ]
  },
  {
   "cell_type": "markdown",
   "id": "11264b94-a103-409b-ad86-e5973f8d5484",
   "metadata": {},
   "source": [
    "Start with a base unit (e.g., `$10`). After a loss, increase your next bet by one unit. After a win, decrease your bet by one unit, ensuring you never bet below the base unit."
   ]
  },
  {
   "cell_type": "markdown",
   "id": "3bb09e5e-7372-492b-aee6-2564d9cf3035",
   "metadata": {},
   "source": [
    "## Hypothesis"
   ]
  },
  {
   "cell_type": "markdown",
   "id": "f36dcdba-5e62-4813-b39b-ea45758f2eb6",
   "metadata": {},
   "source": [
    "With the basics out-of-the-way, we can now pose the central hypothesis of this blog post:\n",
    "\n",
    "Can betting strategies such as Martingale, Fibonacci, or D’Alembert overcome the house edge in roulette over a long series of bets?"
   ]
  },
  {
   "cell_type": "markdown",
   "id": "8aca7e7f-be4c-47c1-9463-5631bf514d95",
   "metadata": {
    "tags": []
   },
   "source": [
    "## Data"
   ]
  },
  {
   "cell_type": "markdown",
   "id": "226acd95-306c-4a56-b4a9-b34ef89c16b5",
   "metadata": {},
   "source": [
    "To investigate our hypothesis, we will utilize simulated roulette data from https://www.kaggle.com/datasets/flynn28/simulated-roulette-data. Specifically, we will analyze datasets simulating 10,000 and 100,000 rounds of roulette, processed using the Python library `pandas`. Simulated data is used because casinos typically do not make real-world roulette data publicly available, making simulations an invaluable resource for exploring patterns and testing strategies."
   ]
  },
  {
   "cell_type": "code",
   "execution_count": null,
   "id": "5baed1a9-a559-4bd2-bd16-93d24d32100b",
   "metadata": {
    "tags": []
   },
   "outputs": [],
   "source": [
    "roulette_10000_rounds_df = pd.read_csv(\"roulette_10000_rounds.csv\")\n",
    "roulette_100000_rounds_df = pd.read_csv(\"roulette_100000_rounds.csv\")"
   ]
  },
  {
   "cell_type": "markdown",
   "id": "ea96c64c-5673-404f-9ff1-a0adf0417773",
   "metadata": {},
   "source": [
    "## Setup"
   ]
  },
  {
   "cell_type": "markdown",
   "id": "5489d4fb-23bd-47d7-98ac-25bead6fc4f9",
   "metadata": {},
   "source": [
    "We will begin by simulating 16 different games of roulette, covering four betting strategies: Martingale, Fibonacci, D'Alembert, and a baseline approach we’ll refer to as *no strategy*. For each strategy, we simulate four games where the player bets on red, black, even and odd. In all cases, the player begins with a base bet of `$10`, adapting subsequent bets according to the chosen strategy. For the *no strategy* baseline, the player bets a random amount between `$5` and `$20` each round. Additionally, no limit is imposed on the player’s total capital during these simulations."
   ]
  },
  {
   "cell_type": "markdown",
   "id": "3cdf0559-c7ea-45fa-9895-658f54532634",
   "metadata": {
    "tags": []
   },
   "source": [
    "## Approach and Analysis"
   ]
  },
  {
   "cell_type": "markdown",
   "id": "75d11e0a-1019-41c3-b5a3-8b078d50f606",
   "metadata": {},
   "source": [
    "To analyze the performance of different betting strategies, we create four functions: `no_strategy()`, `martingale_strategy()`, `fibonacci_strategy()`, and `d_alembert_strategy()`. Each function simulates its respective betting approach. Using these functions in conjunction with `plot_strategies_2x2()`, we visualize the net profit achieved by each strategy over 10,000 simulated rounds of roulette. The resulting plots are shown below."
   ]
  },
  {
   "cell_type": "code",
   "execution_count": null,
   "id": "0d6db178-b24e-48ba-8d9e-ff7494b17f4b",
   "metadata": {
    "tags": []
   },
   "outputs": [],
   "source": [
    "# Run and plot the strategies using 10,000 rounds\n",
    "Project_functions.plot_strategies_2x2(roulette_10000_rounds_df, 10)"
   ]
  },
  {
   "cell_type": "markdown",
   "id": "f440c360-c099-47c0-95f9-8d1cffd7a3f9",
   "metadata": {},
   "source": [
    "Straight away we notice a pattern in these plots. The results for the *no strategy* and D'Alembert approaches share similarities: both show jagged, fluctuating lines with a noticeable downward trend. In contrast, the plots for the Martingale and Fibonacci strategies show a steady but slow upward trajectory. To determine if these trends persist over a larger dataset, we now analyze the results using the simulated data from 100,000 rounds of roulette."
   ]
  },
  {
   "cell_type": "code",
   "execution_count": null,
   "id": "48307db5-2cb8-439f-ad66-902b3a75dab3",
   "metadata": {
    "tags": []
   },
   "outputs": [],
   "source": [
    "# Run and plot the strategies using 100,000 rounds\n",
    "Project_functions.plot_strategies_2x2(roulette_100000_rounds_df, 10)"
   ]
  },
  {
   "cell_type": "markdown",
   "id": "85f6bcd2-0e1c-4424-9e20-94e4c10f2ef9",
   "metadata": {},
   "source": [
    "The plots confirm that the observed trends are consistent. Across simulations of both 10,000 and 100,000 rounds of roulette, the *no strategy* and D'Alembert approaches consistently result in losses.\n",
    "\n",
    "Up to this point, we have assumed no limits on the amount a player can bet per round. However, this is unrealistic, as casinos typically impose table limits to cap bets. To reflect real-life conditions, we will continue our analysis of the Martingale and Fibonacci strategies utilizing table limits. These strategies show an upward trend, unlike the *no strategy* and D'Alembert strategies, which show a clear downward trajectory. Using table limits on these two strategies would only further constrain them, making them irrelevant to our analysis.\n",
    "\n",
    "The table limits used in this analysis were scraped using the selenium package from online roulette games on https://www.livedealer.org/live-casino-games/table-bet-limits/ and https://roulette77.us/blog/explanation-of-betting-limits. From the scraped data, we derived the following table limits (min, max and mean of all the scraped table limits): `$500`, `$75,000` and `$18,000` (rounded down to the nearest thousand). These values form the basis of our new analysis.\n",
    "\n",
    "To incorporate these constraints, we created three new functions: `martingale_strategy_with_table_limits()`, `fibonacci_strategy_with_table_limits()`, and `plot_strategies_2x4()`. The resulting plots are presented below."
   ]
  },
  {
   "cell_type": "code",
   "execution_count": null,
   "id": "4186eec0-697c-41d1-b064-bbb8fd608546",
   "metadata": {
    "tags": []
   },
   "outputs": [],
   "source": [
    "# Run and plot the strategies Martingale and Fibonacci using table limits with 10,000 rounds\n",
    "Project_functions.plot_strategies_2x4(martingale_result_10000_rounds, fibonacci_result_10000_rounds, table_limits)"
   ]
  },
  {
   "cell_type": "markdown",
   "id": "55829a27-2a10-4863-a4f9-10a263f5152f",
   "metadata": {},
   "source": [
    "From these plots, we observe that approximately one-third of the lines end above the starting balance after 10,000 rounds. To investigate whether this pattern holds over longer durations, we generate similar plots using data from 100,000 rounds."
   ]
  },
  {
   "cell_type": "code",
   "execution_count": null,
   "id": "b4162f59-9716-459c-bf0d-46f9c8b6d5ba",
   "metadata": {
    "tags": []
   },
   "outputs": [],
   "source": [
    "# Run and plot the strategies Martingale and Fibonacci using table limits with 100,000 rounds\n",
    "plot_strategies_2x4(martingale_result_100000_rounds, fibonacci_result_100000_rounds, table_limits)"
   ]
  },
  {
   "cell_type": "markdown",
   "id": "786176d0-858d-428b-b20b-80718b6d0146",
   "metadata": {},
   "source": [
    "From these plots, we observe that only one line-the orange one in the second plot on the first row-ends above the starting balance after 100,000 rounds. This suggests that the longer the game continues, the more prominent the house edge becomes. Based on our findings thus far in this blog post, we can finally draw our conclusion."
   ]
  },
  {
   "cell_type": "markdown",
   "id": "57d15485-c3a7-4b91-bde9-6430042365a0",
   "metadata": {},
   "source": [
    "## Result"
   ]
  },
  {
   "cell_type": "markdown",
   "id": "f758ad64-b294-4145-a069-3f429f5f895a",
   "metadata": {},
   "source": [
    "The result from our analysis suggests that, over time, the casino will always win, although it might take a very long time. In reality, most players won’t play 100,000 rounds in one sitting, so strategies like Martingale and Fibonacci could potentially yield short-term gains. However, due to the presence of the green 0, which gives the house its advantage, the house will ultimately win in the long run. To answer our hypothesis: no, you cannot beat the house edge in roulette over an extended series of bets using betting strategies."
   ]
  },
  {
   "cell_type": "markdown",
   "id": "d703b5ab-a8ba-4f16-bc57-8a915ae101da",
   "metadata": {},
   "source": [
    "## Discussion"
   ]
  },
  {
   "cell_type": "markdown",
   "id": "f48767e4-9e8c-4859-be57-f7f3adb8811d",
   "metadata": {},
   "source": [
    "Throughout this blog post, we have relied on simulated roulette data rather than real-life data. While this may be seen as a limitation, it’s important to note that roulette is primarily a game of chance and randomness, so the use of simulated data doesn't significantly change the conclusions drawn from our analysis.\n",
    "\n",
    "As a final note, since roulette is fundamentally a game of chance, no betting strategy can influence the probability of where the ball will land. While strategies such as Martingale and Fibonacci may offer short-term gains, they come with no guarantees and cannot overcome the house edge in the long run. Ultimately, roulette should be played with the understanding that it's a form of entertainment, not a surefire way to make money."
   ]
  },
  {
   "cell_type": "markdown",
   "id": "e45826a8-32f1-4092-a21d-e4c53d94ac8c",
   "metadata": {},
   "source": [
    "- Important: The measurement is the amount of money the player won\n",
    "- Budget: We only care about how much profit the player made after 10,000 rounds (it can of course be negative profit)\n",
    "- Payout: 1 to 1 \n",
    "- 10,000 Rounds\n",
    "  - No strategy\n",
    "    - Amount: Random amount $5-$20\n",
    "  - Martingale\n",
    "    - Amount: From strategy\n",
    "  - Fibonacci\n",
    "    - Amount: From strategy\n",
    "  - D'Alembert\n",
    "    - Amount: From strategy\n",
    "    \n",
    "TITTA HUR JAG SKA GÖRA MED ATT IMPORTERA OCH INSTALLERA LIBRARYS (KANSKE MÅSTE SKRIVA pip install ...)\n",
    "\n",
    "TITTA WORD COUNT\n",
    "\n",
    "VART SKA ALL KOD VARA, I VILKEN ORDNING OSV"
   ]
  },
  {
   "cell_type": "code",
   "execution_count": null,
   "id": "5ce7b18d-73f3-40e2-b6ee-c0bda73e2314",
   "metadata": {
    "tags": []
   },
   "outputs": [],
   "source": [
    "def no_strategy(data, initial_bet):\n",
    "    \"\"\"\n",
    "    Simulates a random betting strategy in roulette.\n",
    "\n",
    "    Parameters:\n",
    "    ----------\n",
    "    data : pandas.DataFrame\n",
    "        DataFrame with roulette outcomes. Columns: \"Red Bet Win\", \"Black Bet Win\", \"Even Bet Win\", \"Odd Bet Win\".\n",
    "    initial_bet : int\n",
    "        Initial bet amount for the first spin.\n",
    "\n",
    "    Returns:\n",
    "    -------\n",
    "    dict\n",
    "        Cumulative balances for each bet type (\"red\", \"black\", \"even\", \"odd\") as lists.\n",
    "\n",
    "    Notes:\n",
    "    ------\n",
    "    - First bet is the initial_bet amount.\n",
    "    - Subsequent bets are random amounts between $5 and $20.\n",
    "    - Balances are updated based on wins or losses for each spin.\n",
    "    \"\"\"\n",
    "    # Initialize balances\n",
    "    balances = {\"red\": [0], \"black\": [0], \"even\": [0], \"odd\": [0]}\n",
    "\n",
    "    for spin, (_, row) in enumerate(data.iterrows()):\n",
    "        \n",
    "        # Use initial_bet for the first spin; random bet otherwise\n",
    "        bet = initial_bet if spin == 0 else random.randint(5, 20)\n",
    "        \n",
    "        # Update balances\n",
    "        balances[\"red\"].append(balances[\"red\"][-1] + (bet if row[\"Red Bet Win\"] == 1 else -bet))\n",
    "        balances[\"black\"].append(balances[\"black\"][-1] + (bet if row[\"Black Bet Win\"] == 1 else -bet))\n",
    "        balances[\"even\"].append(balances[\"even\"][-1] + (bet if row[\"Even Bet Win\"] == 1 else -bet))\n",
    "        balances[\"odd\"].append(balances[\"odd\"][-1] + (bet if row[\"Odd Bet Win\"] == 1 else -bet))\n",
    "\n",
    "    return balances"
   ]
  },
  {
   "cell_type": "code",
   "execution_count": null,
   "id": "7d74a518-152d-4513-935b-cb75cc7709f4",
   "metadata": {
    "tags": []
   },
   "outputs": [],
   "source": [
    "def martingale_strategy(data, initial_bet):\n",
    "    \"\"\"\n",
    "    Simulates the Martingale betting strategy for roulette.\n",
    "\n",
    "    Parameters:\n",
    "    ----------\n",
    "    data : pandas.DataFrame\n",
    "        DataFrame with roulette outcomes. Columns: \"Red Bet Win\", \"Black Bet Win\", \"Even Bet Win\", \"Odd Bet Win\".\n",
    "    initial_bet : int\n",
    "        Initial bet amount.\n",
    "\n",
    "    Returns:\n",
    "    -------\n",
    "    dict\n",
    "        Cumulative balances for each bet type (\"red\", \"black\", \"even\", \"odd\") as lists.\n",
    "\n",
    "    Notes:\n",
    "    ------\n",
    "    - On a win, the bet resets to the initial bet.\n",
    "    - On a loss, the bet doubles for the next spin.\n",
    "    \"\"\"\n",
    "    # Initialize variables\n",
    "    balances = {\"red\": [0], \"black\": [0], \"even\": [0], \"odd\": [0]}\n",
    "    bets = {\"red\": initial_bet, \"black\": initial_bet, \"even\": initial_bet, \"odd\": initial_bet}\n",
    "\n",
    "    for _, row in data.iterrows():\n",
    "        for bet_type in balances.keys():\n",
    "            bet = bets[bet_type]\n",
    "\n",
    "            # Update balances\n",
    "            if row[f\"{bet_type.capitalize()} Bet Win\"] == 1:  # Win\n",
    "                balances[bet_type].append(balances[bet_type][-1] + bet)\n",
    "                bets[bet_type] = initial_bet  # Reset bet to initial amount\n",
    "            else:  # Loss\n",
    "                balances[bet_type].append(balances[bet_type][-1] - bet)\n",
    "                bets[bet_type] *= 2  # Double the bet amount\n",
    "\n",
    "    return balances"
   ]
  },
  {
   "cell_type": "code",
   "execution_count": null,
   "id": "963cf7cb-5f70-4d99-bfd9-b16f16517afa",
   "metadata": {
    "tags": []
   },
   "outputs": [],
   "source": [
    "def fibonacci_strategy(data, initial_bet):\n",
    "    \"\"\"\n",
    "    Simulates the Fibonacci betting strategy for roulette.\n",
    "\n",
    "    Parameters:\n",
    "    ----------\n",
    "    data : pandas.DataFrame\n",
    "        DataFrame with roulette outcomes. Columns: \"Red Bet Win\", \"Black Bet Win\", \"Even Bet Win\", \"Odd Bet Win\".\n",
    "    initial_bet : int\n",
    "        Initial bet amount.\n",
    "\n",
    "    Returns:\n",
    "    -------\n",
    "    dict\n",
    "        Cumulative balances for each bet type (\"red\", \"black\", \"even\", \"odd\") as lists.\n",
    "\n",
    "    Notes:\n",
    "    ------\n",
    "    - Bets follow the Fibonacci sequence (e.g., 1, 1, 2, 3, 5, ...) for losses.\n",
    "    - On a win, the sequence moves back two steps, or resets if at the beginning.\n",
    "    \"\"\"\n",
    "    # Initialize variables\n",
    "    balances = {\"red\": [0], \"black\": [0], \"even\": [0], \"odd\": [0]}\n",
    "    sequences = {\"red\": [1, 1], \"black\": [1, 1], \"even\": [1, 1], \"odd\": [1, 1]}\n",
    "    indices = {\"red\": 0, \"black\": 0, \"even\": 0, \"odd\": 0}\n",
    "\n",
    "    for _, row in data.iterrows():\n",
    "        for bet_type in balances.keys():\n",
    "            current_index = indices[bet_type]\n",
    "            bet = sequences[bet_type][current_index] * initial_bet\n",
    "\n",
    "            # Update balances\n",
    "            if row[f\"{bet_type.capitalize()} Bet Win\"] == 1:  # Win\n",
    "                balances[bet_type].append(balances[bet_type][-1] + bet)\n",
    "                indices[bet_type] = max(0, current_index - 2)\n",
    "            else:  # Loss\n",
    "                balances[bet_type].append(balances[bet_type][-1] - bet)\n",
    "                indices[bet_type] += 1\n",
    "                if indices[bet_type] >= len(sequences[bet_type]):\n",
    "                    sequences[bet_type].append(sequences[bet_type][-1] + sequences[bet_type][-2])\n",
    "\n",
    "    return balances"
   ]
  },
  {
   "cell_type": "code",
   "execution_count": null,
   "id": "cf02e988-7aa5-4e04-a6ad-675d2bfb2bb7",
   "metadata": {
    "tags": []
   },
   "outputs": [],
   "source": [
    "def d_alembert_strategy(data, initial_bet):\n",
    "    \"\"\"\n",
    "    Simulates the D'Alembert betting strategy for roulette.\n",
    "\n",
    "    Parameters:\n",
    "    ----------\n",
    "    data : pandas.DataFrame\n",
    "        DataFrame with roulette outcomes. Columns: \"Red Bet Win\", \"Black Bet Win\", \"Even Bet Win\", \"Odd Bet Win\".\n",
    "    initial_bet : int\n",
    "        Initial bet amount.\n",
    "\n",
    "    Returns:\n",
    "    -------\n",
    "    dict\n",
    "        Cumulative balances for each bet type (\"red\", \"black\", \"even\", \"odd\") as lists.\n",
    "\n",
    "    Notes:\n",
    "    ------\n",
    "    - On a win, the bet decreases by the initial bet.\n",
    "    - On a loss, the bet increases by the initial bet.\n",
    "    \"\"\"\n",
    "    # Initialize variables\n",
    "    balances = {\"red\": [0], \"black\": [0], \"even\": [0], \"odd\": [0]}\n",
    "    bets = {\"red\": initial_bet, \"black\": initial_bet, \"even\": initial_bet, \"odd\": initial_bet}\n",
    "\n",
    "    for _, row in data.iterrows():\n",
    "        for bet_type in balances.keys():\n",
    "            bet = bets[bet_type]\n",
    "\n",
    "            # Update balances\n",
    "            if row[f\"{bet_type.capitalize()} Bet Win\"] == 1:  # Win\n",
    "                balances[bet_type].append(balances[bet_type][-1] + bet)\n",
    "                bets[bet_type] = max(initial_bet, bet - initial_bet)\n",
    "            else:  # Loss\n",
    "                balances[bet_type].append(balances[bet_type][-1] - bet)\n",
    "                bets[bet_type] += initial_bet\n",
    "\n",
    "    return balances"
   ]
  },
  {
   "cell_type": "code",
   "execution_count": null,
   "id": "0b405bf3-37df-4a20-93dc-d6495f2c8657",
   "metadata": {
    "tags": []
   },
   "outputs": [],
   "source": [
    "def plot_strategies_2x2(data, initial_bet):\n",
    "    \"\"\"\n",
    "    Plots the net profit of four roulette betting strategies in a 2x2 grid.\n",
    "\n",
    "    Parameters:\n",
    "    ----------\n",
    "    data : pandas.DataFrame\n",
    "        DataFrame with roulette outcomes. Columns: \"Red Bet Win\", \"Black Bet Win\", \"Even Bet Win\", \"Odd Bet Win\".\n",
    "    initial_bet : int\n",
    "        The starting bet amount for all strategies.\n",
    "\n",
    "    Returns:\n",
    "    -------\n",
    "    None\n",
    "        Displays a 2x2 grid of line plots for the net profit of each strategy.\n",
    "\n",
    "    Notes:\n",
    "    ------\n",
    "    - The strategies compared are: No Strategy, Martingale, Fibonacci, and D'Alembert.\n",
    "    - Each subplot represents one strategy, showing balances for different bet types (Red, Black, Even, Odd).\n",
    "    - Lines are color-coded for bet types, and a horizontal dashed line represents the starting balance.\n",
    "    \"\"\"\n",
    "    strategies = {\n",
    "        \"No Strategy\": no_strategy,\n",
    "        \"Martingale\": martingale_strategy,\n",
    "        \"Fibonacci\": fibonacci_strategy,\n",
    "        \"D'Alembert\": d_alembert_strategy\n",
    "    }\n",
    "\n",
    "    colors = [\"red\", \"black\", \"green\", \"blue\"]  # Define colors for bet types\n",
    "    titles = [\n",
    "        \"Net Profit Using No Strategy\",\n",
    "        \"Net Profit Using the Martingale Strategy\",\n",
    "        \"Net Profit Using the Fibonacci Strategy\",\n",
    "        \"Net Profit Using the D'Alembert Strategy\"\n",
    "    ]\n",
    "\n",
    "    fig, axes = plt.subplots(2, 2, figsize=(12, 10))\n",
    "    axes = axes.flatten()  # Flatten the grid for easy iteration\n",
    "\n",
    "    for i, (strategy_name, strategy_function) in enumerate(strategies.items()):\n",
    "        balances = strategy_function(data, initial_bet)\n",
    "        ax = axes[i]\n",
    "\n",
    "        # Plot balances for each bet type with custom colors\n",
    "        for j, (bet_type, balance) in enumerate(balances.items()):\n",
    "            ax.plot(balance, label=bet_type.capitalize(), color=colors[j])\n",
    "\n",
    "        ax.set_title(titles[i])  # Set the custom title\n",
    "        ax.set_xlabel(\"Number of Spins\")\n",
    "        ax.set_ylabel(\"Net profit ($)\")\n",
    "        ax.axhline(0, color='black', linestyle='--', label=\"Starting Balance\")\n",
    "        ax.legend()\n",
    "\n",
    "    plt.tight_layout()\n",
    "    plt.show()"
   ]
  },
  {
   "cell_type": "code",
   "execution_count": null,
   "id": "02d0a92a-a8ba-48f0-a27b-38e08dbf9192",
   "metadata": {
    "tags": []
   },
   "outputs": [],
   "source": [
    "# Set up Selenium WebDriver\n",
    "driver = webdriver.Chrome()\n",
    "url = 'https://www.livedealer.org/live-casino-games/table-bet-limits/'\n",
    "driver.get(url)\n",
    "\n",
    "# Wait for the page to load completely\n",
    "time.sleep(5)\n",
    "\n",
    "# Get the fully rendered HTML\n",
    "html_content = driver.page_source\n",
    "soup = BeautifulSoup(html_content, 'html.parser')\n",
    "\n",
    "# Find the table\n",
    "table = soup.find('table', {'class': 'sortable responsive-table'})\n",
    "\n",
    "# Extract data from the table\n",
    "large_table_data = []\n",
    "for row in table.find_all('tr')[1:]: # Skip header row\n",
    "    columns = row.find_all('td')\n",
    "    roulette_max_bet = columns[4].get_text(strip=True)\n",
    "    large_table_data.append(roulette_max_bet)\n",
    "\n",
    "# Close the browser\n",
    "driver.quit()"
   ]
  },
  {
   "cell_type": "code",
   "execution_count": null,
   "id": "f64fa8ff-8cab-490a-875f-7cee56c168fb",
   "metadata": {
    "tags": []
   },
   "outputs": [],
   "source": [
    "# Set up Selenium WebDriver\n",
    "driver = webdriver.Chrome()\n",
    "url = 'https://roulette77.us/blog/explanation-of-betting-limits'\n",
    "driver.get(url)\n",
    "\n",
    "# Wait for the page to load completely\n",
    "time.sleep(5)\n",
    "\n",
    "# Get the fully rendered HTML\n",
    "html_content = driver.page_source\n",
    "soup = BeautifulSoup(html_content, 'html.parser')\n",
    "\n",
    "# Find the table\n",
    "table = soup.find('table', {'class': 'classic-table classic-table--min600'})\n",
    "\n",
    "# Find all the rows in the table and get the last row\n",
    "rows = table.find_all('tr')\n",
    "last_row = rows[-1]\n",
    "\n",
    "# Extract the columns from the last row\n",
    "columns = last_row.find_all('td')\n",
    "small_table_data = [\n",
    "    columns[2].text.strip(),  \n",
    "    columns[4].text.strip(),  \n",
    "    columns[6].text.strip()   \n",
    "]\n",
    "\n",
    "# Close the browser\n",
    "driver.quit()"
   ]
  },
  {
   "cell_type": "code",
   "execution_count": null,
   "id": "b59c3dd3-9717-4f85-8c96-f978ee2b7a20",
   "metadata": {
    "tags": []
   },
   "outputs": [],
   "source": [
    "# Combine the two lists into one list and convert each element to an integer\n",
    "combined_data = large_table_data + small_table_data\n",
    "combined_data = [int(max_bet) for max_bet in combined_data]\n",
    "\n",
    "# Compute min, max, and mean\n",
    "min_value = min(combined_data)\n",
    "max_value = max(combined_data)\n",
    "mean_value = statistics.mean(combined_data)\n",
    "\n",
    "# Create a new list with min, max and mean\n",
    "table_limits = [\n",
    "    min_value,\n",
    "    max_value,\n",
    "    int(round(mean_value, -3))\n",
    "]"
   ]
  },
  {
   "cell_type": "code",
   "execution_count": null,
   "id": "836aecfe-9860-47fe-8b1e-db79d65436fd",
   "metadata": {
    "tags": []
   },
   "outputs": [],
   "source": [
    "def martingale_strategy_with_table_limits(data, initial_bet, table_limits):\n",
    "    \"\"\"\n",
    "    Simulates the Martingale betting strategy with table limits for multiple bet types.\n",
    "\n",
    "    Parameters:\n",
    "    ----------\n",
    "    data : pandas.DataFrame\n",
    "        DataFrame with roulette outcomes. Columns: \"Red Bet Win\", \"Black Bet Win\", \"Even Bet Win\", \"Odd Bet Win\".\n",
    "    initial_bet : int\n",
    "        The starting bet amount for the Martingale strategy.\n",
    "    table_limits : list of int\n",
    "        A list of table limits specifying the maximum allowable bet for each simulation.\n",
    "\n",
    "    Returns:\n",
    "    -------\n",
    "    dict\n",
    "        A nested dictionary where keys are table limits, and values are dictionaries of bet types\n",
    "        (\"red\", \"black\", \"even\", \"odd\") with lists representing the cumulative balance over spins.\n",
    "\n",
    "    Notes:\n",
    "    ------\n",
    "    - Implements the Martingale strategy, doubling the bet after a loss and resetting to the initial bet after a win.\n",
    "    - Bets are capped by the table limit to prevent exceeding the maximum allowable bet.\n",
    "    - Tracks balances separately for each combination of table limit and bet type.\n",
    "    \"\"\"\n",
    "    results = {limit: {bet_type: [0] for bet_type in [\"red\", \"black\", \"even\", \"odd\"]} for limit in table_limits}\n",
    "\n",
    "    for table_limit in table_limits:\n",
    "        # Initialize bets\n",
    "        bets = {bet_type: initial_bet for bet_type in [\"red\", \"black\", \"even\", \"odd\"]}\n",
    "\n",
    "        for _, row in data.iterrows():\n",
    "            for bet_type in bets.keys():\n",
    "                bet = min(bets[bet_type], table_limit)  # Ensure bet adheres to the table limit\n",
    "\n",
    "                # Update balances\n",
    "                if row[f\"{bet_type.capitalize()} Bet Win\"] == 1:  # Win\n",
    "                    results[table_limit][bet_type].append(results[table_limit][bet_type][-1] + bet)\n",
    "                    bets[bet_type] = initial_bet  # Reset bet to initial amount\n",
    "                else:  # Loss\n",
    "                    results[table_limit][bet_type].append(results[table_limit][bet_type][-1] - bet)\n",
    "                    bets[bet_type] = min(bets[bet_type] * 2, table_limit)  # Double the bet, respect table limit\n",
    "\n",
    "    return results"
   ]
  },
  {
   "cell_type": "code",
   "execution_count": null,
   "id": "7083dcaf-2123-45ef-8c05-6bf0d54f5988",
   "metadata": {
    "tags": []
   },
   "outputs": [],
   "source": [
    "def fibonacci_strategy_with_table_limits(data, initial_bet, table_limits):\n",
    "    \"\"\"\n",
    "    Simulates the Fibonacci betting strategy with table limits for multiple bet types.\n",
    "\n",
    "    Parameters:\n",
    "    ----------\n",
    "    data : pandas.DataFrame\n",
    "        DataFrame with roulette outcomes. Columns: \"Red Bet Win\", \"Black Bet Win\", \"Even Bet Win\", \"Odd Bet Win\".\n",
    "    initial_bet : int\n",
    "        The starting bet amount for the Fibonacci strategy.\n",
    "    table_limits : list of int\n",
    "        A list of table limits specifying the maximum allowable bet for each simulation.\n",
    "\n",
    "    Returns:\n",
    "    -------\n",
    "    dict\n",
    "        A nested dictionary where keys are table limits, and values are dictionaries of bet types\n",
    "        (\"red\", \"black\", \"even\", \"odd\") with lists representing the cumulative balance over spins.\n",
    "\n",
    "    Notes:\n",
    "    ------\n",
    "    - Implements the Fibonacci betting strategy, where bets follow the Fibonacci sequence.\n",
    "    - After a win, the bet moves back two steps in the Fibonacci sequence (or resets to the start).\n",
    "    - After a loss, the bet moves forward one step in the sequence.\n",
    "    - Bets are capped by the table limit to prevent exceeding the maximum allowable bet.\n",
    "    - Extends the Fibonacci sequence dynamically as needed for prolonged losses.\n",
    "    - Tracks balances separately for each combination of table limit and bet type.\n",
    "    \"\"\"\n",
    "    results = {limit: {bet_type: [0] for bet_type in [\"red\", \"black\", \"even\", \"odd\"]} for limit in table_limits}\n",
    "\n",
    "    for table_limit in table_limits:\n",
    "        # Initialize variables\n",
    "        sequences = {bet_type: [1, 1] for bet_type in [\"red\", \"black\", \"even\", \"odd\"]}\n",
    "        indices = {bet_type: 0 for bet_type in [\"red\", \"black\", \"even\", \"odd\"]}\n",
    "\n",
    "        for _, row in data.iterrows():\n",
    "            for bet_type in sequences.keys():\n",
    "                current_index = indices[bet_type]\n",
    "                bet = min(sequences[bet_type][current_index] * initial_bet, table_limit)  # Adhere to table limit\n",
    "\n",
    "                # Update balances\n",
    "                if row[f\"{bet_type.capitalize()} Bet Win\"] == 1:  # Win\n",
    "                    results[table_limit][bet_type].append(results[table_limit][bet_type][-1] + bet)\n",
    "                    indices[bet_type] = max(0, current_index - 2)  # Move back two steps in the sequence\n",
    "                else:  # Loss\n",
    "                    results[table_limit][bet_type].append(results[table_limit][bet_type][-1] - bet)\n",
    "                    indices[bet_type] += 1\n",
    "                    # Extend Fibonacci sequence if needed\n",
    "                    if indices[bet_type] >= len(sequences[bet_type]):\n",
    "                        sequences[bet_type].append(sequences[bet_type][-1] + sequences[bet_type][-2])\n",
    "\n",
    "    return results"
   ]
  },
  {
   "cell_type": "code",
   "execution_count": null,
   "id": "39a6d9c0-6599-47ac-82c3-5bf05e84d8f5",
   "metadata": {
    "tags": []
   },
   "outputs": [],
   "source": [
    "martingale_result_10000_rounds = martingale_strategy_with_table_limits(roulette_10000_rounds_df, 10, table_limits)\n",
    "fibonacci_result_10000_rounds = fibonacci_strategy_with_table_limits(roulette_10000_rounds_df, 10, table_limits)\n",
    "martingale_result_100000_rounds = martingale_strategy_with_table_limits(roulette_100000_rounds_df, 10, table_limits)\n",
    "fibonacci_result_100000_rounds = fibonacci_strategy_with_table_limits(roulette_100000_rounds_df, 10, table_limits)"
   ]
  },
  {
   "cell_type": "code",
   "execution_count": null,
   "id": "22148a5c-bbcb-4be8-88d6-e38225a5bc53",
   "metadata": {
    "tags": []
   },
   "outputs": [],
   "source": [
    "def plot_strategies_2x4(martingale_data, fibonacci_data, table_limits):\n",
    "    \"\"\"\n",
    "    Plots the results of Martingale and Fibonacci strategies across multiple bet types \n",
    "    and table limits in a 2x4 grid layout.\n",
    "\n",
    "    Parameters:\n",
    "    ----------\n",
    "    martingale_data : dict\n",
    "        Nested dictionary containing Martingale strategy results. \n",
    "        Keys are table limits, and values are dictionaries of bet types (\"red\", \"black\", \"even\", \"odd\") \n",
    "        with lists representing the cumulative balances over spins.\n",
    "    fibonacci_data : dict\n",
    "        Nested dictionary containing Fibonacci strategy results. \n",
    "        Same structure as `martingale_data`.\n",
    "    table_limits : list of int\n",
    "        List of table limits used to distinguish plotted lines.\n",
    "\n",
    "    Notes:\n",
    "    ------\n",
    "    - The top row of plots corresponds to Martingale strategy results, and the bottom row corresponds to Fibonacci.\n",
    "    - Each column represents one of the bet types: \"red\", \"black\", \"even\", or \"odd\".\n",
    "    - Lines for each table limit are plotted within each subplot, and balances are compared.\n",
    "    - A horizontal dashed line marks the starting balance (0).\n",
    "    - Subplots share the y-axis for rows to allow easier comparison of balance changes.\n",
    "\n",
    "    Returns:\n",
    "    -------\n",
    "    None\n",
    "        Displays the plot directly.\n",
    "    \"\"\"\n",
    "    bet_types = [\"red\", \"black\", \"even\", \"odd\"]\n",
    "    strategies = [(\"Martingale\", martingale_data), (\"Fibonacci\", fibonacci_data)]\n",
    "    \n",
    "    fig, axes = plt.subplots(2, 4, figsize=(20, 10), sharey='row')\n",
    "\n",
    "    for row, (strategy_name, strategy_data) in enumerate(strategies):\n",
    "        for col, bet_type in enumerate(bet_types):\n",
    "            ax = axes[row, col]\n",
    "            for table_limit in table_limits:\n",
    "                balances = strategy_data[table_limit][bet_type]\n",
    "                ax.plot(balances, label=f\"Table Limit: ${table_limit}\")\n",
    "            ax.set_title(f\"{strategy_name} Strategy: Betting on {bet_type.capitalize()}\")\n",
    "            ax.set_xlabel(\"Number of Spins\")\n",
    "            ax.axhline(0, color='black', linestyle='--', label=\"Starting Balance\")\n",
    "            if col == 0:  # Add ylabel only to the first column in each row\n",
    "                ax.set_ylabel(\"Net profit ($)\")\n",
    "            ax.legend()\n",
    "\n",
    "    plt.tight_layout()\n",
    "    plt.show()"
   ]
  },
  {
   "cell_type": "code",
   "execution_count": null,
   "id": "217b6e50-2301-48a6-a52a-c9fd83ae10b7",
   "metadata": {},
   "outputs": [],
   "source": []
  }
 ],
 "metadata": {
  "kernelspec": {
   "display_name": "Python 3 (ipykernel)",
   "language": "python",
   "name": "python3"
  },
  "language_info": {
   "codemirror_mode": {
    "name": "ipython",
    "version": 3
   },
   "file_extension": ".py",
   "mimetype": "text/x-python",
   "name": "python",
   "nbconvert_exporter": "python",
   "pygments_lexer": "ipython3",
   "version": "3.11.5"
  }
 },
 "nbformat": 4,
 "nbformat_minor": 5
}
