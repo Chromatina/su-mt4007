{
 "cells": [
  {
   "cell_type": "markdown",
   "id": "21d6c13a-5648-4032-9063-7708331d8ea2",
   "metadata": {
    "tags": []
   },
   "source": [
    "# Homework 1"
   ]
  },
  {
   "cell_type": "markdown",
   "id": "4626f933-d45a-418a-a307-9774e02dc3d3",
   "metadata": {
    "tags": []
   },
   "source": [
    "## Description of myself"
   ]
  },
  {
   "cell_type": "markdown",
   "id": "6f05b165-8fa6-436b-8e8c-baef215ca424",
   "metadata": {},
   "source": [
    "My name is Emil, I am a 21-year-old currently taking a bachelor's program in mathematics at Stockholm University. I love problem solving and learning new things. On my free time I usually play video games. "
   ]
  },
  {
   "cell_type": "markdown",
   "id": "6e1b9609-3f17-411f-8d11-cca40947cb72",
   "metadata": {},
   "source": [
    "## My previous experience with Data Science"
   ]
  },
  {
   "cell_type": "markdown",
   "id": "48c4386d-f0aa-4074-9c5c-7b88955ac1a0",
   "metadata": {},
   "source": [
    "My previous experience with Data Science mostly comes from other courses here at Stockholm University; such as \"Linjära statistiska modeller - MT5016\" and \"Statistisk inferensteori - MT5017\". In those courses we were given data that we then needed to analyze and draw conclusions from. "
   ]
  }
 ],
 "metadata": {
  "kernelspec": {
   "display_name": "Python 3 (ipykernel)",
   "language": "python",
   "name": "python3"
  },
  "language_info": {
   "codemirror_mode": {
    "name": "ipython",
    "version": 3
   },
   "file_extension": ".py",
   "mimetype": "text/x-python",
   "name": "python",
   "nbconvert_exporter": "python",
   "pygments_lexer": "ipython3",
   "version": "3.11.5"
  }
 },
 "nbformat": 4,
 "nbformat_minor": 5
}
